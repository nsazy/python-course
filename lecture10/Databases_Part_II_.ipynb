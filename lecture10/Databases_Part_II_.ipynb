{
  "cells": [
    {
      "cell_type": "markdown",
      "metadata": {
        "id": "8fRKYuDSoqC5"
      },
      "source": [
        "##Databases Part II"
      ]
    },
    {
      "cell_type": "markdown",
      "metadata": {
        "id": "wg_tR0JXoqC7"
      },
      "source": [
        "For this last lecutre I am going to query data from the Mimic 3 Demo Database. The Mimic 3 Demo Database is a subset of the original database in that it contians 100 of the original 40,000 patients.  This database contains deidentified health care data of patients from intensive care units at Beth Israel Deaconess Medical Center between 2001 and 2012[1].  The demo database is readily available via this link: [Mimic 3 Demo](https://github.com/MIT-LCP/mimic-code/tree/main/mimic-iii/buildmimic/sqlite).  \n",
        "Once in this folder read Read.md very carefully.  Download all mimic 3 demo csv files to a specific directory that you have created on your local machine along with the import.py and import.sh.  Now use the instructions in readme fle to create the sqlite database file.\n",
        "Once you have created the sqlite database locally on your computer upload it to your google drive.\n",
        "\n",
        "In this lecture I will expand the use of the select statement to build a multitable query to gather data on patient glucose values over time in the ICU.\n"
      ]
    },
    {
      "cell_type": "markdown",
      "metadata": {
        "id": "hx0wDyY2oqC-"
      },
      "source": [
        "Now as in the previous lecture go ahead and mount your google drive."
      ]
    },
    {
      "cell_type": "code",
      "execution_count": null,
      "metadata": {
        "id": "kBZnczqToqC_"
      },
      "outputs": [],
      "source": [
        "\n",
        "from google.colab import drive\n",
        "drive.mount('/content/drive')"
      ]
    },
    {
      "cell_type": "markdown",
      "source": [
        "Connect to your database using the path where the database is located on your drive."
      ],
      "metadata": {
        "id": "t6MjjJcDETyQ"
      }
    },
    {
      "cell_type": "code",
      "source": [
        "import sqlite3 as sql\n",
        "\n",
        "conn = sql.connect(\"/content/drive/MyDrive/data/mimic3.db\")"
      ],
      "metadata": {
        "id": "p31xDjYoTwxP"
      },
      "execution_count": null,
      "outputs": []
    },
    {
      "cell_type": "markdown",
      "metadata": {
        "id": "vjhYeBHnoqDA"
      },
      "source": [
        "Now I will query the database with a focus on the chartevents table.  This table has clinician charted data that includes measurements such as patient temperature, heart rate and blood pressure. \n",
        "Here you will notice I am using the pandas library. Pandas is a python library for data manipulation and analysis.  Here I am using the pandas library to clearly show the tables being used with their column labels.  \n",
        "\n",
        "Two other concepts I am introducing is an alias and the limit clause.  An alias is a way of shortening a word in this case pandas to something shorter and easier to use or pd.  The limit clause is used here to limit the number of rows returned in the select query in this case to 5 rows."
      ]
    },
    {
      "cell_type": "code",
      "execution_count": null,
      "metadata": {
        "id": "lm5tVcytoqDB"
      },
      "outputs": [],
      "source": [
        "import pandas as pd\n",
        "data = pd.read_sql_query(\"select * from chartevents limit 5;\", conn)\n",
        "data\n"
      ]
    },
    {
      "cell_type": "markdown",
      "metadata": {
        "id": "81glxHsUoqDE"
      },
      "source": [
        "Now I am going to filter the data, but this time I want to query data from three patients.  In this instance I need to use the **in** keyword with **where** so as to query patient data associated with the row_id's 5279021, 5279022 and 5279023."
      ]
    },
    {
      "cell_type": "code",
      "execution_count": null,
      "metadata": {
        "id": "0s3wJPXpoqDF",
        "outputId": "152fcfbf-d46b-459a-cae4-e58d8fc5f708",
        "colab": {
          "base_uri": "https://localhost:8080/",
          "height": 143
        }
      },
      "outputs": [
        {
          "output_type": "execute_result",
          "data": {
            "text/plain": [
              "    row_id  subject_id  hadm_id  icustay_id  itemid            charttime  \\\n",
              "0  5279021       40124   126179    279554.0  223761  2130-02-04 04:00:00   \n",
              "1  5279022       40124   126179    279554.0  224695  2130-02-04 04:25:00   \n",
              "2  5279023       40124   126179    279554.0  220210  2130-02-04 04:30:00   \n",
              "\n",
              "             storetime   cgid      value   valuenum  valueuom  warning  error  \\\n",
              "0  2130-02-04 04:35:00  19085       95.9       95.9        ?F      0.0    0.0   \n",
              "1  2130-02-04 05:55:00  18999  2222221.7  2222221.7     cmH2O      0.0    0.0   \n",
              "2  2130-02-04 04:43:00  21452       15.0       15.0  insp/min      0.0    0.0   \n",
              "\n",
              "  resultstatus stopped  \n",
              "0         None    None  \n",
              "1         None    None  \n",
              "2         None    None  "
            ],
            "text/html": [
              "\n",
              "  <div id=\"df-b4c56a0b-032c-4dda-ad8c-6d9049a6c32c\">\n",
              "    <div class=\"colab-df-container\">\n",
              "      <div>\n",
              "<style scoped>\n",
              "    .dataframe tbody tr th:only-of-type {\n",
              "        vertical-align: middle;\n",
              "    }\n",
              "\n",
              "    .dataframe tbody tr th {\n",
              "        vertical-align: top;\n",
              "    }\n",
              "\n",
              "    .dataframe thead th {\n",
              "        text-align: right;\n",
              "    }\n",
              "</style>\n",
              "<table border=\"1\" class=\"dataframe\">\n",
              "  <thead>\n",
              "    <tr style=\"text-align: right;\">\n",
              "      <th></th>\n",
              "      <th>row_id</th>\n",
              "      <th>subject_id</th>\n",
              "      <th>hadm_id</th>\n",
              "      <th>icustay_id</th>\n",
              "      <th>itemid</th>\n",
              "      <th>charttime</th>\n",
              "      <th>storetime</th>\n",
              "      <th>cgid</th>\n",
              "      <th>value</th>\n",
              "      <th>valuenum</th>\n",
              "      <th>valueuom</th>\n",
              "      <th>warning</th>\n",
              "      <th>error</th>\n",
              "      <th>resultstatus</th>\n",
              "      <th>stopped</th>\n",
              "    </tr>\n",
              "  </thead>\n",
              "  <tbody>\n",
              "    <tr>\n",
              "      <th>0</th>\n",
              "      <td>5279021</td>\n",
              "      <td>40124</td>\n",
              "      <td>126179</td>\n",
              "      <td>279554.0</td>\n",
              "      <td>223761</td>\n",
              "      <td>2130-02-04 04:00:00</td>\n",
              "      <td>2130-02-04 04:35:00</td>\n",
              "      <td>19085</td>\n",
              "      <td>95.9</td>\n",
              "      <td>95.9</td>\n",
              "      <td>?F</td>\n",
              "      <td>0.0</td>\n",
              "      <td>0.0</td>\n",
              "      <td>None</td>\n",
              "      <td>None</td>\n",
              "    </tr>\n",
              "    <tr>\n",
              "      <th>1</th>\n",
              "      <td>5279022</td>\n",
              "      <td>40124</td>\n",
              "      <td>126179</td>\n",
              "      <td>279554.0</td>\n",
              "      <td>224695</td>\n",
              "      <td>2130-02-04 04:25:00</td>\n",
              "      <td>2130-02-04 05:55:00</td>\n",
              "      <td>18999</td>\n",
              "      <td>2222221.7</td>\n",
              "      <td>2222221.7</td>\n",
              "      <td>cmH2O</td>\n",
              "      <td>0.0</td>\n",
              "      <td>0.0</td>\n",
              "      <td>None</td>\n",
              "      <td>None</td>\n",
              "    </tr>\n",
              "    <tr>\n",
              "      <th>2</th>\n",
              "      <td>5279023</td>\n",
              "      <td>40124</td>\n",
              "      <td>126179</td>\n",
              "      <td>279554.0</td>\n",
              "      <td>220210</td>\n",
              "      <td>2130-02-04 04:30:00</td>\n",
              "      <td>2130-02-04 04:43:00</td>\n",
              "      <td>21452</td>\n",
              "      <td>15.0</td>\n",
              "      <td>15.0</td>\n",
              "      <td>insp/min</td>\n",
              "      <td>0.0</td>\n",
              "      <td>0.0</td>\n",
              "      <td>None</td>\n",
              "      <td>None</td>\n",
              "    </tr>\n",
              "  </tbody>\n",
              "</table>\n",
              "</div>\n",
              "      <button class=\"colab-df-convert\" onclick=\"convertToInteractive('df-b4c56a0b-032c-4dda-ad8c-6d9049a6c32c')\"\n",
              "              title=\"Convert this dataframe to an interactive table.\"\n",
              "              style=\"display:none;\">\n",
              "        \n",
              "  <svg xmlns=\"http://www.w3.org/2000/svg\" height=\"24px\"viewBox=\"0 0 24 24\"\n",
              "       width=\"24px\">\n",
              "    <path d=\"M0 0h24v24H0V0z\" fill=\"none\"/>\n",
              "    <path d=\"M18.56 5.44l.94 2.06.94-2.06 2.06-.94-2.06-.94-.94-2.06-.94 2.06-2.06.94zm-11 1L8.5 8.5l.94-2.06 2.06-.94-2.06-.94L8.5 2.5l-.94 2.06-2.06.94zm10 10l.94 2.06.94-2.06 2.06-.94-2.06-.94-.94-2.06-.94 2.06-2.06.94z\"/><path d=\"M17.41 7.96l-1.37-1.37c-.4-.4-.92-.59-1.43-.59-.52 0-1.04.2-1.43.59L10.3 9.45l-7.72 7.72c-.78.78-.78 2.05 0 2.83L4 21.41c.39.39.9.59 1.41.59.51 0 1.02-.2 1.41-.59l7.78-7.78 2.81-2.81c.8-.78.8-2.07 0-2.86zM5.41 20L4 18.59l7.72-7.72 1.47 1.35L5.41 20z\"/>\n",
              "  </svg>\n",
              "      </button>\n",
              "      \n",
              "  <style>\n",
              "    .colab-df-container {\n",
              "      display:flex;\n",
              "      flex-wrap:wrap;\n",
              "      gap: 12px;\n",
              "    }\n",
              "\n",
              "    .colab-df-convert {\n",
              "      background-color: #E8F0FE;\n",
              "      border: none;\n",
              "      border-radius: 50%;\n",
              "      cursor: pointer;\n",
              "      display: none;\n",
              "      fill: #1967D2;\n",
              "      height: 32px;\n",
              "      padding: 0 0 0 0;\n",
              "      width: 32px;\n",
              "    }\n",
              "\n",
              "    .colab-df-convert:hover {\n",
              "      background-color: #E2EBFA;\n",
              "      box-shadow: 0px 1px 2px rgba(60, 64, 67, 0.3), 0px 1px 3px 1px rgba(60, 64, 67, 0.15);\n",
              "      fill: #174EA6;\n",
              "    }\n",
              "\n",
              "    [theme=dark] .colab-df-convert {\n",
              "      background-color: #3B4455;\n",
              "      fill: #D2E3FC;\n",
              "    }\n",
              "\n",
              "    [theme=dark] .colab-df-convert:hover {\n",
              "      background-color: #434B5C;\n",
              "      box-shadow: 0px 1px 3px 1px rgba(0, 0, 0, 0.15);\n",
              "      filter: drop-shadow(0px 1px 2px rgba(0, 0, 0, 0.3));\n",
              "      fill: #FFFFFF;\n",
              "    }\n",
              "  </style>\n",
              "\n",
              "      <script>\n",
              "        const buttonEl =\n",
              "          document.querySelector('#df-b4c56a0b-032c-4dda-ad8c-6d9049a6c32c button.colab-df-convert');\n",
              "        buttonEl.style.display =\n",
              "          google.colab.kernel.accessAllowed ? 'block' : 'none';\n",
              "\n",
              "        async function convertToInteractive(key) {\n",
              "          const element = document.querySelector('#df-b4c56a0b-032c-4dda-ad8c-6d9049a6c32c');\n",
              "          const dataTable =\n",
              "            await google.colab.kernel.invokeFunction('convertToInteractive',\n",
              "                                                     [key], {});\n",
              "          if (!dataTable) return;\n",
              "\n",
              "          const docLinkHtml = 'Like what you see? Visit the ' +\n",
              "            '<a target=\"_blank\" href=https://colab.research.google.com/notebooks/data_table.ipynb>data table notebook</a>'\n",
              "            + ' to learn more about interactive tables.';\n",
              "          element.innerHTML = '';\n",
              "          dataTable['output_type'] = 'display_data';\n",
              "          await google.colab.output.renderOutput(dataTable, element);\n",
              "          const docLink = document.createElement('div');\n",
              "          docLink.innerHTML = docLinkHtml;\n",
              "          element.appendChild(docLink);\n",
              "        }\n",
              "      </script>\n",
              "    </div>\n",
              "  </div>\n",
              "  "
            ]
          },
          "metadata": {},
          "execution_count": 5
        }
      ],
      "source": [
        "df = pd.read_sql_query(\"select * from chartevents where row_id in (5279021, 5279022, 5279023)\", conn)\n",
        "df"
      ]
    },
    {
      "cell_type": "markdown",
      "source": [
        "Now we are going to start working on building a multitable query in order to visualize patients glucose values during the duration of their stay in the ICU. "
      ],
      "metadata": {
        "id": "6W9KROuYo6EA"
      }
    },
    {
      "cell_type": "markdown",
      "metadata": {
        "id": "DVe4bw6FpPyY"
      },
      "source": [
        "First we need to query the d_items table to find any labels that have the word glucose in it.  Here I am using the **like** operator with a **wildcard %** which in this case is being used before and after the word glucose so as to find any label that has glucose with possible characters at the start or end of the word."
      ]
    },
    {
      "cell_type": "code",
      "source": [
        "df = pd.read_sql_query(\"select * from d_items where label like '%glucose%'\", conn)"
      ],
      "metadata": {
        "id": "SbnPifFHiPKK"
      },
      "execution_count": null,
      "outputs": []
    },
    {
      "cell_type": "markdown",
      "source": [
        "Now below the distinct keyword is being used within the select statement to allow only unique glucose values to be returned.  Also here I am changing the column name label to Label using the AS keyword."
      ],
      "metadata": {
        "id": "pq4VUhPGObg_"
      }
    },
    {
      "cell_type": "code",
      "source": [
        "df  = pd.read_sql_query(\"select distinct label AS Label from d_items where label like '%glucose%'\", conn)\n",
        "df"
      ],
      "metadata": {
        "id": "BrSE4nktX6gC"
      },
      "execution_count": null,
      "outputs": []
    },
    {
      "cell_type": "markdown",
      "source": [
        "Now using the pandas unique() method we can get the list of all the unique labes to find the appropriate one for the query will be building below."
      ],
      "metadata": {
        "id": "I3b8cQhGiRDR"
      }
    },
    {
      "cell_type": "code",
      "source": [
        "print(df.Label.unique())"
      ],
      "metadata": {
        "id": "WpYIZF7bl5fi"
      },
      "execution_count": null,
      "outputs": []
    },
    {
      "cell_type": "markdown",
      "metadata": {
        "id": "D2TALUsPoqDH"
      },
      "source": [
        "Now I am going to build a multi table query using an \"inner join\" which returns records that have matching values in all tables involved.  The tables in this query include chartevents, d_items, icustays and admissions. The chartevents table which as explained previously houses the values for clinician charted glucose data.  D_items includes the labels used for clinician charted data.  The labels column has significance as I am going to use the specific label 'Fingerstick Glucose', found in the list above.  The icustays table contains data such as the location of where the patient is at such as MICU (Medical Intensive Care Unit).  \n",
        "\n",
        "Another note to mention before running this query would be how the query is built.  In this select query we create an alias for each table such as \"chartevents c\" as can be seen below. Now instead of using chartevents.icustay_id to select the icustay_id column from chartevents we can use \"c.icustay_id\" instead.  \n",
        "\n",
        "To join two tables together as part of an INNER JOIN you join each on their common column name.  As an example, to join both the chartevents and icustays tables together in this manner you use \"INNER JOIN chartevents c ON d.itemid = c.itemid\" where in this case their common column name is itemid.\n",
        "\n",
        "I also use the WHERE keyword to filter the data by the patients temperature as well by discharge location such that only discharge location 'DEAD/EXPIRED' is excluded. \n",
        "\n",
        "Lastly, I will use \"ORDER BY\" in order to list the records in ascending order by charted time. "
      ]
    },
    {
      "cell_type": "code",
      "execution_count": null,
      "metadata": {
        "id": "Pvsns3w-oqDI"
      },
      "outputs": [],
      "source": [
        "query = \"\"\"select c.subject_id\n",
        "                    , round((strftime('%s',c.charttime)-strftime('%s',icu.intime))/60.0/60.0) as Number_Of_Hours_In_The_ICU\n",
        "                    , icu.first_careunit\n",
        "                    , icu.last_careunit\n",
        "                    ,  d.label as Accucheck\n",
        "                    , c.valuenum as Accucheck_Value\n",
        "                    , a.discharge_location\n",
        "                 from d_items d\n",
        "                 inner join chartevents c\n",
        "                 on d.itemid = c.itemid\n",
        "                 inner join admissions a\n",
        "                 on c.subject_id = a.subject_id\n",
        "                 inner join icustays icu\n",
        "                 on c.icustay_id = icu.icustay_id\n",
        "                 WHERE d.label = 'Fingerstick Glucose' AND  a.discharge_location != 'DEAD/EXPIRED'\n",
        "                 ORDER BY c.charttime\n",
        "                 \"\"\"\n",
        "\n",
        "clinical_data = pd.read_sql_query(query,conn)\n",
        "clinical_data"
      ]
    },
    {
      "cell_type": "markdown",
      "metadata": {
        "id": "oPs0a--foqDS"
      },
      "source": [
        "Now I will plot the glucose values over time for the patients' in icu so we can visualize the trends from admission until the end of the icu stay.  Here I am going to use seaborn to visualize the data.\n",
        "1. First I will import seaborn and give it the alias sns\n",
        "2. I will set the font to 2 so it can be easily read.\n",
        "3. I will use relplot and in the call and use getlabels as the parameter for data, number of hour in the icu from the dataframe for x as well as the accucheck data as valuenum from the dataframe for y.\n",
        "4. I am going to set the height of the graph to 6."
      ]
    },
    {
      "cell_type": "code",
      "execution_count": null,
      "metadata": {
        "id": "4VQ2vle1oqDV"
      },
      "outputs": [],
      "source": [
        "import seaborn as sns\n",
        "import matplotlib.pyplot as plt\n",
        "\n",
        "sns.set(font_scale=2)\n",
        "sns.relplot(data=clinical_data, x=\"Number_Of_Hours_In_The_ICU\", y=\"Accucheck_Value\", height=6, aspect=3)\n",
        "\n",
        "plt.title('Patients glucose level during the duration of their stay in the ICU.')"
      ]
    },
    {
      "cell_type": "markdown",
      "metadata": {
        "id": "T80L87jFpPyb"
      },
      "source": [
        "# References"
      ]
    },
    {
      "cell_type": "markdown",
      "metadata": {
        "id": "r1dy8T3cpPyb"
      },
      "source": [
        "Goldberger, A., Amaral, L., Glass, L., Hausdorff, J., Ivanov, P. C., Mark, R., ... & Stanley, H. E. (2000). PhysioBank, PhysioToolkit, and PhysioNet: Components of a new research resource for complex physiologic signals. Circulation [Online]. 101 (23), pp. e215–e220."
      ]
    }
  ],
  "metadata": {
    "colab": {
      "provenance": []
    },
    "kernelspec": {
      "display_name": "Python 3",
      "language": "python",
      "name": "python3"
    },
    "language_info": {
      "codemirror_mode": {
        "name": "ipython",
        "version": 3
      },
      "file_extension": ".py",
      "mimetype": "text/x-python",
      "name": "python",
      "nbconvert_exporter": "python",
      "pygments_lexer": "ipython3",
      "version": "3.7.4"
    }
  },
  "nbformat": 4,
  "nbformat_minor": 0
}