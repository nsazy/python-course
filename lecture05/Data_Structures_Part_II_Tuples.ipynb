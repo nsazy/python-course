{
  "nbformat": 4,
  "nbformat_minor": 0,
  "metadata": {
    "colab": {
      "provenance": [],
      "authorship_tag": "ABX9TyMl8fp8S8EpNofqG6zO1MW0"
    },
    "kernelspec": {
      "name": "python3",
      "display_name": "Python 3"
    },
    "language_info": {
      "name": "python"
    }
  },
  "cells": [
    {
      "cell_type": "markdown",
      "source": [
        "#Tuples"
      ],
      "metadata": {
        "id": "KS3TvPfiInM9"
      }
    },
    {
      "cell_type": "markdown",
      "source": [
        "Tuples are another data structure in python that can contain a collection of data and is considered a sequence just like a list is.  A tuple is represented by parenthesis () and can be created as follows:\n",
        "variable = ().\n",
        "A tuple is a different type of data structure in that once it is created it is not mutable.  You cannnot add to a tuple, change any value(s) or remove any values so essentially the value(s) in a tuple remain constant or static. Tuples also can contain values of the same or different data types.  One other note to make here is tuples are also 0 index based like lists."
      ],
      "metadata": {
        "id": "o7FCz8hiIte0"
      }
    },
    {
      "cell_type": "markdown",
      "source": [
        "This type of data structure is great if you are using values that will not change such as an individual and their birthday as noted below."
      ],
      "metadata": {
        "id": "6a637mtIMt54"
      }
    },
    {
      "cell_type": "code",
      "source": [
        "patient_yob = (\"John Doe\", 1974)\n",
        "print(patient_yob)"
      ],
      "metadata": {
        "id": "YJ1FFNp9IpUi"
      },
      "execution_count": null,
      "outputs": []
    },
    {
      "cell_type": "markdown",
      "source": [
        "Lets say you want to create a tuple with just one variable.  In order to do this you would use the following syntax: \n",
        "variable = (\"Value\",).  Below a tuple name is created with one variable \"John\"."
      ],
      "metadata": {
        "id": "D8aKQkeg0vHa"
      }
    },
    {
      "cell_type": "code",
      "source": [
        "name = (\"John\", )\n",
        "print(type(name))\n",
        "print(name)"
      ],
      "metadata": {
        "id": "iydEkt750bUG"
      },
      "execution_count": null,
      "outputs": []
    },
    {
      "cell_type": "markdown",
      "source": [
        "Now if an attempt is made to change the value John in the tuple name below, the following TypeError occurs detailing that a tuple object cannot be changed."
      ],
      "metadata": {
        "id": "LMFJhZ8hBySN"
      }
    },
    {
      "cell_type": "code",
      "source": [
        "name[0] = \"Sam\"\n",
        "print(name)"
      ],
      "metadata": {
        "id": "tZXMLJZSCBaz"
      },
      "execution_count": null,
      "outputs": []
    },
    {
      "cell_type": "markdown",
      "source": [
        "Now as with lists or any sequence, you could loop through a tuple.  Lets say you have the following tuple:\n",
        "id_info = (\"John Doe\",\"May 6, 1987\", 234125670).  Here as example you have an individual name, birthdate and social security number.\n",
        "If you wanted to loop through the tuple you would doing the following:"
      ],
      "metadata": {
        "id": "1k15P9DPNQ0V"
      }
    },
    {
      "cell_type": "code",
      "source": [
        "id_info = (\"John Doe\", \"May 6, 1987\", 234125670)\n",
        "for i in id_info:\n",
        "  print(i)"
      ],
      "metadata": {
        "id": "kRZkHgs9OO82"
      },
      "execution_count": null,
      "outputs": []
    },
    {
      "cell_type": "markdown",
      "source": [
        "You could also unpack a tuple such as in the following:"
      ],
      "metadata": {
        "id": "zNQDi1bSO1Ij"
      }
    },
    {
      "cell_type": "code",
      "source": [
        "a, b, c = id_info\n",
        "print(a, b, c)\n",
        "print(a)\n",
        "print(b)\n",
        "print(c)"
      ],
      "metadata": {
        "id": "vdAjnxxZO_Sv"
      },
      "execution_count": null,
      "outputs": []
    },
    {
      "cell_type": "markdown",
      "source": [
        "Indexing and slicing with tuples works the same way as with any other sequence."
      ],
      "metadata": {
        "id": "LaEoH9AZXiqQ"
      }
    },
    {
      "cell_type": "code",
      "source": [
        "id_info[0]"
      ],
      "metadata": {
        "id": "s4WkVmwLZ3P_"
      },
      "execution_count": null,
      "outputs": []
    },
    {
      "cell_type": "code",
      "source": [
        "id_info[:] "
      ],
      "metadata": {
        "id": "FG2JTj7gXo5s"
      },
      "execution_count": null,
      "outputs": []
    },
    {
      "cell_type": "code",
      "source": [
        "id_info[0:4]"
      ],
      "metadata": {
        "id": "90LXPoWiZt2o"
      },
      "execution_count": null,
      "outputs": []
    },
    {
      "cell_type": "code",
      "source": [
        "id_info[-1]"
      ],
      "metadata": {
        "id": "L6wN1j8eZ7mH"
      },
      "execution_count": null,
      "outputs": []
    },
    {
      "cell_type": "markdown",
      "source": [
        "For more information please visit [Tuples](https://docs.python.org/3/tutorial/datastructures.html#tuples-and-sequences) in the Python documentation."
      ],
      "metadata": {
        "id": "R-DdcyzQ_v6Q"
      }
    }
  ]
}