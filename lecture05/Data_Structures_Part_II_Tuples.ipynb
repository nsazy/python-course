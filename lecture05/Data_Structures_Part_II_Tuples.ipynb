{
  "nbformat": 4,
  "nbformat_minor": 0,
  "metadata": {
    "colab": {
      "provenance": [],
      "authorship_tag": "ABX9TyMl8fp8S8EpNofqG6zO1MW0"
    },
    "kernelspec": {
      "name": "python3",
      "display_name": "Python 3"
    },
    "language_info": {
      "name": "python"
    }
  },
  "cells": [
    {
      "cell_type": "markdown",
      "source": [
        "#Tuples"
      ],
      "metadata": {
        "id": "KS3TvPfiInM9"
      }
    },
    {
      "cell_type": "markdown",
      "source": [
        "Tuples are another data structure in python that can contain a collection of data and is considered a sequence just like a list is.  A tuple is represented by parenthesis () and can be created as follows:\n",
        "variable = ().\n",
        "A tuple is a different type of data structure in that once it is created it is not mutable.  You cannnot add to a tuple, change any value(s) or remove any values so essentially the value(s) in a tuple remain constant or static. Tuples also can contain values of the same or different data types.  One other note to make here is tuples are also 0 index based like lists."
      ],
      "metadata": {
        "id": "o7FCz8hiIte0"
      }
    },
    {
      "cell_type": "markdown",
      "source": [
        "This type of data structure is great if you are using values that will not change such as an individual and their birthday as noted below."
      ],
      "metadata": {
        "id": "6a637mtIMt54"
      }
    },
    {
      "cell_type": "code",
      "source": [
        "patient_yob = (\"John Doe\", 1974)\n",
        "print(patient_yob)"
      ],
      "metadata": {
        "colab": {
          "base_uri": "https://localhost:8080/"
        },
        "id": "YJ1FFNp9IpUi",
        "outputId": "71251e59-dfe4-4ab4-9979-c09f461ade0a"
      },
      "execution_count": null,
      "outputs": [
        {
          "output_type": "stream",
          "name": "stdout",
          "text": [
            "('John Doe', 1974)\n"
          ]
        }
      ]
    },
    {
      "cell_type": "markdown",
      "source": [
        "Lets say you want to create a tuple with just one variable.  In order to do this you would use the following syntax: \n",
        "variable = (\"Value\",).  Below a tuple name is created with one variable \"John\"."
      ],
      "metadata": {
        "id": "D8aKQkeg0vHa"
      }
    },
    {
      "cell_type": "code",
      "source": [
        "name = (\"John\", )\n",
        "print(type(name))\n",
        "print(name)"
      ],
      "metadata": {
        "colab": {
          "base_uri": "https://localhost:8080/"
        },
        "id": "iydEkt750bUG",
        "outputId": "e0e70d5c-8fc1-4f54-fee9-3c6f9a40c764"
      },
      "execution_count": null,
      "outputs": [
        {
          "output_type": "stream",
          "name": "stdout",
          "text": [
            "<class 'tuple'>\n",
            "('John',)\n"
          ]
        }
      ]
    },
    {
      "cell_type": "markdown",
      "source": [
        "Now if an attempt is made to change the value John in the tuple name below, the following TypeError occurs detailing that a tuple object cannot be changed."
      ],
      "metadata": {
        "id": "LMFJhZ8hBySN"
      }
    },
    {
      "cell_type": "code",
      "source": [
        "name[0] = \"Sam\"\n",
        "print(name)"
      ],
      "metadata": {
        "id": "tZXMLJZSCBaz"
      },
      "execution_count": null,
      "outputs": []
    },
    {
      "cell_type": "markdown",
      "source": [
        "Now as with lists or any sequence, you could loop through a tuple.  Lets say you have the following tuple:\n",
        "id_info = (\"John Doe\",\"May 6, 1987\", 234125670).  Here as example you have an individual name, birthdate and social security number.\n",
        "If you wanted to loop through the tuple you would doing the following:"
      ],
      "metadata": {
        "id": "1k15P9DPNQ0V"
      }
    },
    {
      "cell_type": "code",
      "source": [
        "id_info = (\"John Doe\", \"May 6, 1987\", 234125670)\n",
        "for i in id_info:\n",
        "  print(i)"
      ],
      "metadata": {
        "id": "kRZkHgs9OO82"
      },
      "execution_count": null,
      "outputs": []
    },
    {
      "cell_type": "markdown",
      "source": [
        "You could also unpack a tuple such as in the following:"
      ],
      "metadata": {
        "id": "zNQDi1bSO1Ij"
      }
    },
    {
      "cell_type": "code",
      "source": [
        "a, b, c = id_info\n",
        "print(a, b, c)\n",
        "print(a)\n",
        "print(b)\n",
        "print(c)"
      ],
      "metadata": {
        "id": "vdAjnxxZO_Sv"
      },
      "execution_count": null,
      "outputs": []
    },
    {
      "cell_type": "markdown",
      "source": [
        "Indexing and slicing with tuples works the same way as with any other sequence."
      ],
      "metadata": {
        "id": "LaEoH9AZXiqQ"
      }
    },
    {
      "cell_type": "code",
      "source": [
        "id_info[0]"
      ],
      "metadata": {
        "id": "s4WkVmwLZ3P_"
      },
      "execution_count": null,
      "outputs": []
    },
    {
      "cell_type": "code",
      "source": [
        "id_info[:] "
      ],
      "metadata": {
        "colab": {
          "base_uri": "https://localhost:8080/"
        },
        "id": "FG2JTj7gXo5s",
        "outputId": "02b9c9b9-affe-4317-e12a-bf409187c3d5"
      },
      "execution_count": null,
      "outputs": [
        {
          "output_type": "execute_result",
          "data": {
            "text/plain": [
              "('John Doe', 'May 6, 1987', 234125670)"
            ]
          },
          "metadata": {},
          "execution_count": 7
        }
      ]
    },
    {
      "cell_type": "code",
      "source": [
        "id_info[0:4]"
      ],
      "metadata": {
        "colab": {
          "base_uri": "https://localhost:8080/"
        },
        "id": "90LXPoWiZt2o",
        "outputId": "27b67f6d-2b2a-4c76-f088-4d4b9a4aa7ed"
      },
      "execution_count": null,
      "outputs": [
        {
          "output_type": "execute_result",
          "data": {
            "text/plain": [
              "('John Doe', 'May 6, 1987', 234125670)"
            ]
          },
          "metadata": {},
          "execution_count": 8
        }
      ]
    },
    {
      "cell_type": "code",
      "source": [
        "id_info[-1]"
      ],
      "metadata": {
        "colab": {
          "base_uri": "https://localhost:8080/"
        },
        "id": "L6wN1j8eZ7mH",
        "outputId": "f9bb435e-d858-48b5-f11a-4a75bbc5f136"
      },
      "execution_count": null,
      "outputs": [
        {
          "output_type": "execute_result",
          "data": {
            "text/plain": [
              "234125670"
            ]
          },
          "metadata": {},
          "execution_count": 9
        }
      ]
    },
    {
      "cell_type": "markdown",
      "source": [
        "For more information please visit [Tuples](https://docs.python.org/3/tutorial/datastructures.html#tuples-and-sequences) in the Python documentation."
      ],
      "metadata": {
        "id": "R-DdcyzQ_v6Q"
      }
    }
  ]
}