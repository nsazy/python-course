{
  "nbformat": 4,
  "nbformat_minor": 0,
  "metadata": {
    "colab": {
      "provenance": []
    },
    "kernelspec": {
      "name": "python3",
      "display_name": "Python 3"
    },
    "language_info": {
      "name": "python"
    }
  },
  "cells": [
    {
      "cell_type": "markdown",
      "source": [
        "#Dictionaries\n"
      ],
      "metadata": {
        "id": "RIUKzI0dhIGc"
      }
    },
    {
      "cell_type": "markdown",
      "source": [
        "Dictionaries are a data type in python that uses key - value pairs to store data. Unlike lists and tuples which are use numbers as indexes, dictionaries use keys which are unique vales.  Like lists, dictionaries are a mutable object that can be changed."
      ],
      "metadata": {
        "id": "2_SZctCozJ-0"
      }
    },
    {
      "cell_type": "markdown",
      "source": [
        "A dictionary care either be created using the following notation a = {} where {} denotes an empy dictionary or by using the function - b = dict().  The following will show examples of each where the data type is dict."
      ],
      "metadata": {
        "id": "7f_JLBX3Cgth"
      }
    },
    {
      "cell_type": "code",
      "source": [
        "a = {}\n",
        "print(type(a))"
      ],
      "metadata": {
        "colab": {
          "base_uri": "https://localhost:8080/"
        },
        "id": "ygTO-JEkB30L",
        "outputId": "fddd3281-541c-4875-fb7c-e838838855bd"
      },
      "execution_count": null,
      "outputs": [
        {
          "output_type": "stream",
          "name": "stdout",
          "text": [
            "<class 'dict'>\n"
          ]
        }
      ]
    },
    {
      "cell_type": "code",
      "source": [
        "b = dict()\n",
        "print(type(b))"
      ],
      "metadata": {
        "colab": {
          "base_uri": "https://localhost:8080/"
        },
        "id": "BvGCXsplDhZj",
        "outputId": "be5f7f85-2638-4eaf-e245-5e1ebbc9a765"
      },
      "execution_count": null,
      "outputs": [
        {
          "output_type": "stream",
          "name": "stdout",
          "text": [
            "<class 'dict'>\n"
          ]
        }
      ]
    },
    {
      "cell_type": "markdown",
      "source": [
        "Using the {} syntax, a key value pair can be created with a[key]= value.  This syntax shows that a key is being mapped to a value within the dictionary.  Another thougyt to mention here is a value can be any datatype."
      ],
      "metadata": {
        "id": "UCrhS0oDt_MU"
      }
    },
    {
      "cell_type": "markdown",
      "source": [
        "In the following example, a employee name will be mapped to their employee id"
      ],
      "metadata": {
        "id": "t7F5Xy_TwDpl"
      }
    },
    {
      "cell_type": "code",
      "source": [
        "a[\"R276543\"] = 'John Smith'"
      ],
      "metadata": {
        "id": "a6OX0kYFu-1s"
      },
      "execution_count": null,
      "outputs": []
    },
    {
      "cell_type": "markdown",
      "source": [
        "Now in order to get the employee id run the following:"
      ],
      "metadata": {
        "id": "wHDwpGGhwreM"
      }
    },
    {
      "cell_type": "code",
      "source": [
        "print(a[\"R276543\"])"
      ],
      "metadata": {
        "colab": {
          "base_uri": "https://localhost:8080/"
        },
        "id": "u5r8S0l-w5i1",
        "outputId": "29a1998f-a0d1-4954-b292-20ff73a652b8"
      },
      "execution_count": null,
      "outputs": [
        {
          "output_type": "stream",
          "name": "stdout",
          "text": [
            "John Smith\n"
          ]
        }
      ]
    },
    {
      "cell_type": "markdown",
      "source": [
        "If creating the dictionary using the dict() function as shown above, adding key-value pairs is the same as shown above"
      ],
      "metadata": {
        "id": "onKbX8sj8wGo"
      }
    },
    {
      "cell_type": "markdown",
      "source": [
        "Now a dictionary can also be created by adding the key-value pairs when initially creating the dictionary.  The following is an example where the key is patient last name and the value is their medical record number:"
      ],
      "metadata": {
        "id": "OT0S4E3F9UQu"
      }
    },
    {
      "cell_type": "code",
      "source": [
        "patient_mrn = {\"mickey_mouse\":101456123,\"daffy_duck\":101635354, \"john_doe\":102857654, \"jane_doe\":101852654}\n",
        "print(patient_mrn)"
      ],
      "metadata": {
        "colab": {
          "base_uri": "https://localhost:8080/"
        },
        "id": "foJWTvM6Ewvv",
        "outputId": "bd3f2200-40b7-4e23-f2a4-30bb7d78cecd"
      },
      "execution_count": null,
      "outputs": [
        {
          "output_type": "stream",
          "name": "stdout",
          "text": [
            "{'mickey_mouse': 101456123, 'daffy_duck': 101635354, 'john_doe': 102857654, 'jane_doe': 101852654}\n"
          ]
        }
      ]
    },
    {
      "cell_type": "markdown",
      "source": [
        "Now another way in which a dictionary can by used is to count frequencies of either words in a paragraph or the count of each character in a word.  The following example will count the frequency of each character in the word brachiosaurus."
      ],
      "metadata": {
        "id": "ZPoKndl9GEqe"
      }
    },
    {
      "cell_type": "code",
      "source": [
        "word = \"tyrannosaurus\"\n",
        "char_cnt = {}\n",
        "for char in word:\n",
        "  if char not in char_cnt:\n",
        "    char_cnt[char] = 1\n",
        "  else:\n",
        "    char_cnt[char] = char_cnt[char] + 1 # this statment can also be shortened to char_cnt[char] =+ 1\n",
        "\n",
        "print(char_cnt)\n"
      ],
      "metadata": {
        "colab": {
          "base_uri": "https://localhost:8080/"
        },
        "id": "hebKU8wDKAW3",
        "outputId": "58b4c2a1-27b6-4fc7-b016-961b6cfe753e"
      },
      "execution_count": null,
      "outputs": [
        {
          "output_type": "stream",
          "name": "stdout",
          "text": [
            "{'b': 1, 'r': 2, 'a': 2, 'c': 1, 'h': 1, 'i': 1, 'o': 1, 's': 2, 'u': 2}\n"
          ]
        }
      ]
    },
    {
      "cell_type": "markdown",
      "source": [
        "Another way to accomplish the same as above without the if else block would be to use the get function which uses the following syntax:\n",
        "dict = dict.get(key, value).  \n",
        "\n",
        "In the code example below, value is set as a default value of 0.  As the for loop iterates through the sequence word, with each iteration, if \"char\" or the key is not found in char_cnt the default value of 0 is returned.  The 0 is then added to the 1 at the end of the expression char_cnt.get(char, 0) + 1, with 0 + 1 equating to 1,  with 1 then being added as the value for the key.  \n",
        "\n",
        "During iteration if the \"char\" is found in char_cnt, get returns the value associated with that key and adds the value to the 1 at the end of the expression char_cnt.get(char, 0) + 1, with that new value now assoiciated with the key."
      ],
      "metadata": {
        "id": "k4xPTWeTVlg-"
      }
    },
    {
      "cell_type": "code",
      "source": [
        "word = \"tyrannosaurus\"\n",
        "char_cnt = {}\n",
        "for char in word:\n",
        "  char_cnt[char] = char_cnt.get(char, 0) + 1\n",
        "print(char_cnt)"
      ],
      "metadata": {
        "colab": {
          "base_uri": "https://localhost:8080/"
        },
        "id": "4vhCp8YFV-Cy",
        "outputId": "2fd97772-a8cc-446e-c150-c4f1aa251257"
      },
      "execution_count": null,
      "outputs": [
        {
          "output_type": "stream",
          "name": "stdout",
          "text": [
            "{'t': 1, 'y': 1, 'r': 2, 'a': 2, 'n': 2, 'o': 1, 's': 2, 'u': 2}\n"
          ]
        }
      ]
    }
  ]
}