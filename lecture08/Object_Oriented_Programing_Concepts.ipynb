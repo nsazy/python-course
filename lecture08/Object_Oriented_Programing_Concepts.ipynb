{
  "nbformat": 4,
  "nbformat_minor": 0,
  "metadata": {
    "colab": {
      "provenance": [],
      "authorship_tag": "ABX9TyN/VxxFRDYs9BLrSs7boyg9"
    },
    "kernelspec": {
      "name": "python3",
      "display_name": "Python 3"
    },
    "language_info": {
      "name": "python"
    }
  },
  "cells": [
    {
      "cell_type": "markdown",
      "source": [
        "#Object Oriented Programing Concepts"
      ],
      "metadata": {
        "id": "D7mMkb2PVPBk"
      }
    },
    {
      "cell_type": "markdown",
      "source": [
        "Object oriented programming is an another important concept to understand. Going back to previous lectures, whenever a integer, string, list, tuple or dicxtionary was assigned to a variable that variable became an object of that particular class type whether int, str, list etc.  This means that all variables created in python are objects."
      ],
      "metadata": {
        "id": "b9sihqdpra7l"
      }
    },
    {
      "cell_type": "markdown",
      "source": [
        "As can be seen below for both examples when calling the type function, a is of class type int and b is of class type string."
      ],
      "metadata": {
        "id": "BBjKw_RAwRAS"
      }
    },
    {
      "cell_type": "code",
      "source": [
        "a = 14\n",
        "print(type(a))"
      ],
      "metadata": {
        "id": "Wpc-sx4fv1lf"
      },
      "execution_count": null,
      "outputs": []
    },
    {
      "cell_type": "code",
      "source": [
        "b = 'Hi'\n",
        "print(type(b))"
      ],
      "metadata": {
        "id": "EGKrx1-AVTzU"
      },
      "execution_count": null,
      "outputs": []
    },
    {
      "cell_type": "markdown",
      "source": [
        "Again for the examples below x, c and j will be objects of type list, tuple and dict or dictionary."
      ],
      "metadata": {
        "id": "TjtgqjgDxxXl"
      }
    },
    {
      "cell_type": "code",
      "source": [
        "x = list()\n",
        "print(type(x))"
      ],
      "metadata": {
        "id": "XsCnfTesuOlM"
      },
      "execution_count": null,
      "outputs": []
    },
    {
      "cell_type": "code",
      "source": [
        "c = tuple()\n",
        "print(type(c))"
      ],
      "metadata": {
        "id": "GfJVH7Zq23Cb"
      },
      "execution_count": null,
      "outputs": []
    },
    {
      "cell_type": "code",
      "source": [
        "j = dict()\n",
        "print(type(j))"
      ],
      "metadata": {
        "id": "kXOJPngIunbi"
      },
      "execution_count": null,
      "outputs": []
    },
    {
      "cell_type": "markdown",
      "source": [
        "A basic new class can be created by using a template with the following:\n",
        "\n",
        "class ClassName:\n",
        "    statement(s)\n",
        "\n",
        "Here the class keyword is followed by the class name which always startd with an upper case letter followed by a colon.  The statement(s) contained within the body of the class are then indented four spaces so it is known they are part of the class.  The statments can include an attribute such as a variable to hold any data as well as a function which is called a method when contained within a class.  The following code shows an example of this.\n"
      ],
      "metadata": {
        "id": "T6PlHoLw3WUQ"
      }
    },
    {
      "cell_type": "code",
      "source": [
        "class ClassName:\n",
        "  a = 0\n",
        "\n",
        "  def sayHello(self):\n",
        "    return 'Hello'"
      ],
      "metadata": {
        "id": "jttlIJ8u5bxL"
      },
      "execution_count": null,
      "outputs": []
    },
    {
      "cell_type": "markdown",
      "source": [
        "An important concept to understand with classes just as seen before when creating an object of the list class or any built in python classes, an instance needs to be created.  In this case the instance is created when ClassName() is called then assigned to variable z.  Here the instance is created, then stored as an object within the variable z.  \n",
        "\n",
        "Just to give an idea of how the object is stored in memory once created, printing the variable below will demnostrate this:\n",
        "\n",
        "![Class Object in memory screenshot.png](data:image/png;base64,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)\n",
        "\n",
        "Its shows the object of type ClassName stored in the memory location which will most likely be different when you run it."
      ],
      "metadata": {
        "id": "m-CvqNBp85ri"
      }
    },
    {
      "cell_type": "code",
      "source": [
        "z = ClassName()\n",
        "\n",
        "print(z) "
      ],
      "metadata": {
        "id": "_08qKBmT8_bh"
      },
      "execution_count": null,
      "outputs": []
    },
    {
      "cell_type": "markdown",
      "source": [
        "To call the sayHello() method with the class use the following notation object.methodName().  As can be seen here the dot \".\" between the object and methodName() is referred to as dot notation so as to call the method of that particular object.  The example for calling sayHello of the object z is seen below."
      ],
      "metadata": {
        "id": "X3OdYDJyAadh"
      }
    },
    {
      "cell_type": "code",
      "source": [
        "z.sayHello()"
      ],
      "metadata": {
        "id": "0kSQvZzB9dMQ"
      },
      "execution_count": null,
      "outputs": []
    },
    {
      "cell_type": "markdown",
      "source": [
        "  Now in order to create a new object, lets say that has the ability to convert temperature from Celcius to Farhenheit and vice versus in addition to the patients name a new class type is needed.  Lets create class TempChecker() with methods convCtoF, to convert Celcius to Fahrenheit and another method to convert Fahrenheit to Celcius, convFtoC.  In the pediatric inpatient hospital setting temperatures are often taken in Celcius which then requires conversion to Fahrenheit.\n",
        "  To start the design of this class lets start with introducing the concept of the __init__ method.  The __init__ method will be the first to execute when any object of type Tempchecker is created to initialize specific variables within the class.  Another term which you might also see used is the term instantiated.  Often when a new object is created it is said that the ojbect is instantated or created of the class.  \n",
        "  The __init__ method is used when specific variables need to be initialized once an object is created.  Each time an object is created, these variables are initialzed to that specific instance of the class so depending on how many objects are created you will have that many individual variables that are in their own copy or instance of the class. \n",
        "  Below is the class Tempchecker which initializes the variables patient_name and temp when each new object of the class is created.  The class also includes two different methods for temperature conversion."
      ],
      "metadata": {
        "id": "NBy4DZ4_Wqxv"
      }
    },
    {
      "cell_type": "code",
      "source": [
        "class TempChecker():\n",
        "  \n",
        "  def __init__(self, patient_name, temp):\n",
        "    self.patient_name = patient_name\n",
        "    self.temp = temp\n",
        "\n",
        "  def convCtoF(self):\n",
        "    resF = (self.temp * 1.8) + 32\n",
        "    return f\"{self.patient_name} temperature in fahrenheit is  {resF}\"\n",
        "  def convFtoC(self):\n",
        "    resC = (self.temp - 32) * .5556\n",
        "    return f\"{self.patient_name} temperature in Celcius is {round(resC, 2)}\"\n"
      ],
      "metadata": {
        "id": "QwvGpkJwW_OG"
      },
      "execution_count": null,
      "outputs": []
    },
    {
      "cell_type": "markdown",
      "source": [
        "As can be seen below TempChecker is instantiated with the arguments for patient_name and temp, \"John Doe\" and 36.5 respectively and the object that is retured is assigned to and contained within the variable a."
      ],
      "metadata": {
        "id": "tHjGvzXt2flM"
      }
    },
    {
      "cell_type": "code",
      "source": [
        "a = TempChecker(\"John Doe\", 36.5)\n",
        "a.convCtoF()\n"
      ],
      "metadata": {
        "id": "COMRbXAZ-f3C"
      },
      "execution_count": null,
      "outputs": []
    },
    {
      "cell_type": "markdown",
      "source": [
        "Now upon using the dir function with a as a parameter, all of the attributes of the object contained within a can be visualized.  Each of the methods such as __class__ are all used internally by Python with the last four in the list the two methods and variables that were specifically designed within the clas."
      ],
      "metadata": {
        "id": "xjp5nPPs3PHv"
      }
    },
    {
      "cell_type": "code",
      "source": [
        "dir(a)"
      ],
      "metadata": {
        "id": "OPnmXz9t3FfB"
      },
      "execution_count": null,
      "outputs": []
    },
    {
      "cell_type": "markdown",
      "source": [
        "Below is another example of where a new object is created or instantiated where the function to convert Fahrenheit to Celcius is used."
      ],
      "metadata": {
        "id": "l39_n9BV37x4"
      }
    },
    {
      "cell_type": "code",
      "source": [
        "b = TempChecker(\"Jane Doe\", 98.6)\n",
        "b.convFtoC()"
      ],
      "metadata": {
        "id": "CxSZ0D64b6KB"
      },
      "execution_count": null,
      "outputs": []
    },
    {
      "cell_type": "markdown",
      "source": [
        "##Inheritance"
      ],
      "metadata": {
        "id": "r67dnU284OQB"
      }
    },
    {
      "cell_type": "markdown",
      "source": [
        "An important aspect of object oriented programming is the ability to have one class inherit functionality from another class which provides for increased efficiency and readabilty within code. This is also known as subclassing and involves a child class inheriting from a parent class.  In the following example Employee is the parent class with Nursing being the child class inheriting the properties of Employee.  As can been seen the super() method is used to pass each of the arguments from the creation of the Nursing object a\n",
        "through to the Employee class without the need to reinitialize each of the attributes first_name, last_name, etc."
      ],
      "metadata": {
        "id": "7RTwNtnBMbpj"
      }
    },
    {
      "cell_type": "code",
      "source": [
        "class Employee():\n",
        "  def __init__(self, first_name, last_name, emp_id, department):\n",
        "    self.first_name = first_name\n",
        "    self.last_name = last_name\n",
        "    self.emp_id = emp_id\n",
        "    self.department = department\n",
        "\n",
        "class Nursing(Employee):\n",
        "  def __init__(self, first_name, last_name, emp_id, department):\n",
        "    super().__init__(first_name, last_name, emp_id, department)\n",
        "  \n",
        "  def printName (self):\n",
        "    print(\"Employee: \" + self.first_name + \" \" + self.last_name + \" is from the \" + self.department + \" department\")\n",
        "\n",
        "\n",
        "a = Nursing(\"John\", \"Doe\", \"E102506\", \"Nursing\")\n",
        "a.printName()"
      ],
      "metadata": {
        "id": "s3MStRYw4QBw"
      },
      "execution_count": null,
      "outputs": []
    },
    {
      "cell_type": "markdown",
      "source": [
        "For further information please visit [Classes](https://docs.python.org/3/tutorial/classes.html) in the python documentation."
      ],
      "metadata": {
        "id": "FYf236e6v6yN"
      }
    }
  ]
}