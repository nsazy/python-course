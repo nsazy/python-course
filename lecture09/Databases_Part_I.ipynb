{
  "nbformat": 4,
  "nbformat_minor": 0,
  "metadata": {
    "colab": {
      "provenance": [],
      "authorship_tag": "ABX9TyMExpurm65qlhJMoQ7b7zss"
    },
    "kernelspec": {
      "name": "python3",
      "display_name": "Python 3"
    },
    "language_info": {
      "name": "python"
    }
  },
  "cells": [
    {
      "cell_type": "markdown",
      "source": [
        "#Databases"
      ],
      "metadata": {
        "id": "Xv2gRwMtRgVG"
      }
    },
    {
      "cell_type": "markdown",
      "source": [
        "Databases are a data structure that allow for persistent storage of data on disk, unlike previously covered data structures like lists, tuples and dictionaries that just persist in memory as long as a program is executing.  \n",
        "\n",
        "Relational databases such as SQLite, MySQL and PostgreSQL are called relational since that are composed of an excel like structure called a table where you have rows called relations and columns that are called attributes.  Each row is unique with various datatypes making up each column.  \n",
        "\n",
        "\n",
        "\n"
      ],
      "metadata": {
        "id": "WL5S5w3wRpYt"
      }
    },
    {
      "cell_type": "markdown",
      "source": [
        "In this lecture we will use the SQLite database since its a great tool to use when first learning how to use a database.  The database can be downloaded from the [SQLite Website](www.sqlite.org).  On macos the the sqlite database is already installed and can be accessed by going to the terminal, typing sqlite3 then hit enter.  If you are using Windows you will need to download sqlite3 for windows and follow the instructions for installation and use.\n",
        "\n",
        "In addition, after the sqlite database is created locally, it will need to be uplodated to google drive in order to accessed by the jupyter notebook in google colab.  \n",
        "\n",
        "Once we have a connection to the database we will discuss the use of Structured Query Language or SQL.  SQL is a language which allows us to interact with the data within one or more tabales in a database.  These interactions occur via CRUD operations(CREATE, READ, UPDATE, DELETE).\n"
      ],
      "metadata": {
        "id": "C0b_d1vlbA8d"
      }
    },
    {
      "cell_type": "markdown",
      "source": [
        "#Create Database"
      ],
      "metadata": {
        "id": "KlH2YlRrCnUO"
      }
    },
    {
      "cell_type": "markdown",
      "source": [
        "Lets create a database called Patient Information that has one table called Patients.  It will hold demographic information for patients admitted to a hospital inpatient unit.\n",
        "\n",
        "First lets create the database using the following steps:\n",
        "1. Open a terminal window(on mac) or command prompt on   \n",
        "   windows.  \n",
        "2. Go to the directory where I want the database created.  \n",
        "3. Run the command at the prompt: sqlite3 database_name.  \n",
        "\n",
        "Below is what you will see except the directory portion \"(base) nicholassazy@Nicholass-MBP Lecture09\" will be different of course from your system.\n",
        "\n",
        "(base) nicholassazy@Nicholass-MBP Lecture09 % sqlite3 patientinformation"
      ],
      "metadata": {
        "id": "iusTd3V3DOII"
      }
    },
    {
      "cell_type": "markdown",
      "source": [
        "#Upload database to google drive"
      ],
      "metadata": {
        "id": "j0RR9fHrc1rV"
      }
    },
    {
      "cell_type": "markdown",
      "source": [
        "Once the database is created, upload the newly created database to your google drive."
      ],
      "metadata": {
        "id": "63djEAKGclTp"
      }
    },
    {
      "cell_type": "markdown",
      "source": [
        "#Connect your google drive to Colab"
      ],
      "metadata": {
        "id": "-mYafPXFsaJo"
      }
    },
    {
      "cell_type": "markdown",
      "source": [
        "Now type in the following to connect or mount the drive to Colab:\n"
      ],
      "metadata": {
        "id": "RBLbyf_Osxvq"
      }
    },
    {
      "cell_type": "code",
      "source": [
        "from google.colab import drive\n",
        "drive.mount('/content/drive', force_remount=True)"
      ],
      "metadata": {
        "colab": {
          "base_uri": "https://localhost:8080/"
        },
        "id": "dvN6Pyg_xVp-",
        "outputId": "41eccd5e-b77e-4b94-903b-af68b1fd485d"
      },
      "execution_count": null,
      "outputs": [
        {
          "output_type": "stream",
          "name": "stdout",
          "text": [
            "Mounted at /content/drive\n"
          ]
        }
      ]
    },
    {
      "cell_type": "markdown",
      "source": [
        "Once you click to execute the cell above you will proceed through the following steps:\n",
        "1. Choose the google acount you want to select and provide your password when \n",
        "   prompted.\n",
        "2. After which click on the Allow button at the bottom of the window.  Once \n",
        "   connected you will see \"Mounted at /content/drive\" appear below the cell as can be seen above.\n",
        "\n"
      ],
      "metadata": {
        "id": "Nh3Jyrn0tVqe"
      }
    },
    {
      "cell_type": "markdown",
      "source": [
        "#Create the database connection"
      ],
      "metadata": {
        "id": "u3thVFeRu7IC"
      }
    },
    {
      "cell_type": "markdown",
      "source": [
        "To create a connection from this notebook to the sqlite database \"patient information\" on my google drive I need to import sqlite3 then create the connection string as can be seen below.  Once all the information is typed in the cell, execute the cell.  "
      ],
      "metadata": {
        "id": "UtcSgxrrrLAT"
      }
    },
    {
      "cell_type": "code",
      "source": [
        "import sqlite3\n",
        "conn = sqlite3.connect(\"/content/drive/MyDrive/data/patientinformation.db\")"
      ],
      "metadata": {
        "id": "D38174OrxcGA"
      },
      "execution_count": null,
      "outputs": []
    },
    {
      "cell_type": "markdown",
      "source": [
        "#Create Patients table"
      ],
      "metadata": {
        "id": "Aatezi7vqfjY"
      }
    },
    {
      "cell_type": "markdown",
      "source": [
        "In order to create a table in SQL the following general syntax is utilized."
      ],
      "metadata": {
        "id": "Sljo0dnNsh94"
      }
    },
    {
      "cell_type": "markdown",
      "source": [
        "\n",
        "```\n",
        "\n",
        "CREATE TABLE IF NOT EXISTS table_name (\n",
        "    first_column column_datatype,\n",
        "    second_column column_datatype\n",
        "    );\n",
        "\n",
        "```\n",
        "\n"
      ],
      "metadata": {
        "id": "ofHbc2JYzM60"
      }
    },
    {
      "cell_type": "markdown",
      "source": [
        "Now that we understand the general SQL syntax for creating a table lets use the CREATE TABLE command to create the Patients table. \n",
        "\n",
        "As can be seen below for the first column, ID, to the right is its datatype, PRIMARY KEY AND AUTOINCREMENT.  Primary key means that each value for ID in each row will have a unique value.  In other words ID for row one will be 1, row 2 will be 2 and so on.  Autoincrement is used so that database will automatically provide that value for the ID column each time a row is added incrementing the value each time.\n",
        "\n",
        "For all other columns each column has to its right its datatype followed by NOT NULL.  NOT NULL means a value has to be provided when adding values to the table or an error will occur.  In the event that the column does not require a value NULL can be used instead.\n"
      ],
      "metadata": {
        "id": "iSBiz8T-tYnU"
      }
    },
    {
      "cell_type": "markdown",
      "source": [
        "\n",
        "```\n",
        "CREATE TABLE IF NOT EXISTS Patients \n",
        "    (ID INTEGER PRIMARY KEY AUTOINCREMENT,\n",
        "    FirstName TEXT NOT NULL,\n",
        "    LastName TEXT NOT NULL,\n",
        "    DOB INTEGER NOT NULL,\n",
        "    StreetAddress TEXT NOT NULL,\n",
        "    City TEXT NOT NULL,\n",
        "    State TEXT NOT NULL,\n",
        "    ZipCode INTEGER NOT NULL);\n",
        "```\n",
        "\n"
      ],
      "metadata": {
        "id": "B2XUsjTH8UnW"
      }
    },
    {
      "cell_type": "markdown",
      "source": [
        "Utilizing the SQL above lets execute the code below to create the Patients table."
      ],
      "metadata": {
        "id": "nntv690OxvqY"
      }
    },
    {
      "cell_type": "code",
      "source": [
        "conn.execute('''CREATE TABLE IF NOT EXISTS Patients \n",
        "    (ID INTEGER PRIMARY KEY AUTOINCREMENT,\n",
        "    FirstName TEXT NOT NULL,\n",
        "    LastName TEXT NOT NULL,\n",
        "    DOB INTEGER NOT NULL,\n",
        "    StreetAddress TEXT NOT NULL,\n",
        "    City TEXT NOT NULL,\n",
        "    State TEXT NOT NULL,\n",
        "    ZipCode INTEGER NOT NULL);''')\n"
      ],
      "metadata": {
        "colab": {
          "base_uri": "https://localhost:8080/"
        },
        "id": "GSoJQ9X0x5Si",
        "outputId": "711fa600-9333-46d0-de26-d90c6024a188"
      },
      "execution_count": null,
      "outputs": [
        {
          "output_type": "execute_result",
          "data": {
            "text/plain": [
              "<sqlite3.Cursor at 0x7fb03455a500>"
            ]
          },
          "metadata": {},
          "execution_count": 3
        }
      ]
    },
    {
      "cell_type": "markdown",
      "source": [
        "Now we need to run the commit method of the connection object conn to save the information to the database."
      ],
      "metadata": {
        "id": "hFKgv_wFe8fR"
      }
    },
    {
      "cell_type": "code",
      "source": [
        "conn.commit()"
      ],
      "metadata": {
        "id": "vjKsp6jP3RjZ"
      },
      "execution_count": null,
      "outputs": []
    },
    {
      "cell_type": "markdown",
      "source": [
        "Now in order to insert data into the database the following syntax is needed:\n",
        "\n",
        "```\n",
        "INSERT INTO TABLE_NAME(column_one, etc),\n",
        "VALUES(value_one, etc);\n",
        "```\n",
        "\n",
        "With the above syntax, the initial insert statements are below:\n",
        "```\n",
        "INSERT INTO Patients \n",
        "VALUES \n",
        "(NULL, \"John\", \"Doe\", 05/15/1964, \"1111 Mickey Way\", \"Valrico\", \"FL\", 33601);\n",
        "INSERT INTO Patients \n",
        "VALUES\n",
        "(NULL, \"Jane\", \"Doe\", 09/23/1985, \"55 Turnstile Way\", \"Taos\", \"NM\", 56478);\n",
        "INSERT INTO Patients \n",
        "VALUES\n",
        "(NULL, \"Rick\", \"Smith\", 06/17/1981, \"786 Herring Loop\", \"Madison\", \"WI\", 65908);\n",
        "```"
      ],
      "metadata": {
        "id": "MbvWZQbIr98Y"
      }
    },
    {
      "cell_type": "markdown",
      "source": [
        "Place each Insert string as a parameter to the execute method of the conn object as seen below."
      ],
      "metadata": {
        "id": "6qmesjuytPjU"
      }
    },
    {
      "cell_type": "code",
      "source": [
        "conn.execute(\"INSERT INTO PATIENTS VALUES (NULL,'John', 'Doe', '1964-05-15', '1111 Mickey Way', 'Valrico', 'FL', 33601);\")\n",
        "conn.execute(\"INSERT INTO PATIENTS VALUES (NULL,'Jane', 'Doe', '1985-09-23', '55 Turnstile Way', 'Taos', 'NM', 56478);\")\n",
        "conn.execute(\"INSERT INTO PATIENTS VALUES (NULL,'Rick', 'Smith', '1981-06-17', '786 Herring Loop', 'Madison', 'WI', 65908);\")"
      ],
      "metadata": {
        "id": "TEUx7tYu3uMk"
      },
      "execution_count": null,
      "outputs": []
    },
    {
      "cell_type": "markdown",
      "source": [
        "Now as before run the commit method on the connection object conn to save the values inserted into the database."
      ],
      "metadata": {
        "id": "vNtO9DATtmLf"
      }
    },
    {
      "cell_type": "code",
      "source": [
        "conn.commit()"
      ],
      "metadata": {
        "id": "_O5qwDoF6fnp"
      },
      "execution_count": null,
      "outputs": []
    },
    {
      "cell_type": "markdown",
      "source": [
        "To retreive data from the Patients table utilize the following statement:\n",
        "\n",
        "SELECT * FROM TABLE_NAME; \n",
        "\n",
        "The use of the star \"*\" means to select everything or all rows and columns from the table.\n",
        "\n",
        "The following statement will select all the data from the table:\n",
        "\n",
        "SELECT * FROM PATIENTS;\n",
        "\n",
        "Lets execute this statement below."
      ],
      "metadata": {
        "id": "bE1zquFaBU5a"
      }
    },
    {
      "cell_type": "code",
      "source": [
        "cursor = conn.execute(''' SELECT * from Patients;''')"
      ],
      "metadata": {
        "id": "CPFwOuWD6rG5"
      },
      "execution_count": null,
      "outputs": []
    },
    {
      "cell_type": "markdown",
      "source": [
        "Now lets retreive each of the rows in the table using the for loop below.  "
      ],
      "metadata": {
        "id": "68hCy0RXH4fI"
      }
    },
    {
      "cell_type": "code",
      "source": [
        "for row in cursor:\n",
        "  print(row)"
      ],
      "metadata": {
        "colab": {
          "base_uri": "https://localhost:8080/"
        },
        "id": "yIQn2Dq062Cy",
        "outputId": "816f6bb6-7a6f-40f9-df40-6bc5502d2ab6"
      },
      "execution_count": null,
      "outputs": [
        {
          "output_type": "stream",
          "name": "stdout",
          "text": [
            "(1, 'John', 'Doe', '1964-05-15', '1111 Mickey Way', 'Valrico', 'FL', 33601)\n",
            "(2, 'Jane', 'Doe', '1985-09-23', '55 Turnstile Way', 'Taos', 'NM', 56478)\n",
            "(3, 'Rick', 'Smith', '1981-06-17', '786 Herring Loop', 'Madison', 'WI', 65908)\n"
          ]
        }
      ]
    },
    {
      "cell_type": "markdown",
      "source": [
        "For the UPDATE statement, the where clause will be introduced.  The syntax is below:\n",
        "\n",
        "```\n",
        "UPDATE TABLE_NAME\n",
        "SET COLUMN_NAME = VALUE\n",
        "WHERE condition;\n",
        "```\n",
        "Here is the UPDATE statment to be run on the Patients table.  This time we will run the commit method right after the execute.\n",
        "\n"
      ],
      "metadata": {
        "id": "iH0ool_KK5D3"
      }
    },
    {
      "cell_type": "code",
      "source": [
        "cursor = conn.execute('''UPDATE PATIENTS SET LastName = \"Doe\" WHERE FirstName == \"Rick\";''')\n",
        "conn.commit()"
      ],
      "metadata": {
        "id": "_ive624RIlqJ"
      },
      "execution_count": null,
      "outputs": []
    },
    {
      "cell_type": "markdown",
      "source": [
        "Now lets look at the table again to see the change we just made."
      ],
      "metadata": {
        "id": "POcRaJdEJmb_"
      }
    },
    {
      "cell_type": "code",
      "source": [
        "cursor = conn.execute(''' SELECT * from Patients;''')\n",
        "for row in cursor:\n",
        "  print(row)"
      ],
      "metadata": {
        "id": "MG167tvrJw-u"
      },
      "execution_count": null,
      "outputs": []
    },
    {
      "cell_type": "markdown",
      "source": [
        "In the event that a row in the table requires updating where another individual has the same last name you can use the AND key word to include another column in the where condition.\n"
      ],
      "metadata": {
        "id": "VboFPM1AOF19"
      }
    },
    {
      "cell_type": "code",
      "source": [
        "cursor = conn.execute('''UPDATE PATIENTS SET City = \"Tampa\" WHERE FirstName = \"John\" AND LastName = \"Doe\";''')\n",
        "conn.commit()"
      ],
      "metadata": {
        "id": "FtPyEQNJMo9t"
      },
      "execution_count": null,
      "outputs": []
    },
    {
      "cell_type": "markdown",
      "source": [
        "Now lets look at the table again to see the change we just made."
      ],
      "metadata": {
        "id": "DcXG43cPXII9"
      }
    },
    {
      "cell_type": "code",
      "source": [
        "cursor = conn.execute(''' SELECT * from Patients;''')\n",
        "for row in cursor:\n",
        "  print(row)"
      ],
      "metadata": {
        "id": "oJzGc8HcXMC1"
      },
      "execution_count": null,
      "outputs": []
    },
    {
      "cell_type": "markdown",
      "source": [
        "To delete lets say the record for Rick Smith from the table the following will be used:"
      ],
      "metadata": {
        "id": "8KqcN_BbCH-6"
      }
    },
    {
      "cell_type": "code",
      "source": [
        "cursor = conn.execute('''delete from patients where firstname =='Rick';''')\n",
        "conn.commit()"
      ],
      "metadata": {
        "id": "i2r-uP25Ngdu"
      },
      "execution_count": null,
      "outputs": []
    },
    {
      "cell_type": "markdown",
      "source": [
        "An important note to make here is to ALWAYS use at least a condition with the where clause when deleting information from a specific portion of a table. \n",
        "**NEVER USE 'DELETE FROM PATIENTS' AS THAT WILL DELETE ALL INFORMATION FROM THE TABLE UNLESS YOUR INTENTION IS TO ERASE THE DATA IN THE TABLE**"
      ],
      "metadata": {
        "id": "itDoXCdEN3rf"
      }
    },
    {
      "cell_type": "markdown",
      "source": [
        "Now let revist the patients table one more time to review it after the delete statement was executed."
      ],
      "metadata": {
        "id": "yZGjOo27OtZl"
      }
    },
    {
      "cell_type": "code",
      "source": [
        "cursor = conn.execute(''' SELECT * from Patients;''')\n",
        "for row in cursor:\n",
        "  print(row)"
      ],
      "metadata": {
        "id": "x0UcOfqsOfUv"
      },
      "execution_count": null,
      "outputs": []
    },
    {
      "cell_type": "markdown",
      "source": [
        "Now that all our work on the patients table is complete we need to close the connection to the database.  The following statement accomplishes this."
      ],
      "metadata": {
        "id": "jrZs_QwSPOaI"
      }
    },
    {
      "cell_type": "code",
      "source": [
        "conn.close()"
      ],
      "metadata": {
        "id": "G2EzJb9OPe9m"
      },
      "execution_count": null,
      "outputs": []
    },
    {
      "cell_type": "markdown",
      "source": [
        "Extra\n"
      ],
      "metadata": {
        "id": "LzDc4vR0tbTI"
      }
    },
    {
      "cell_type": "code",
      "source": [
        "#sql statement to remove all records/rows from a table\n",
        "cursor = conn.execute('''DELETE from Patients;''')"
      ],
      "metadata": {
        "id": "nIZTNYNNPFKz"
      },
      "execution_count": null,
      "outputs": []
    },
    {
      "cell_type": "code",
      "source": [
        "#sql statement to remove a table\n",
        "cursor = conn.execute('''DROP TABLE Patients;''')"
      ],
      "metadata": {
        "id": "qtjO3pPIUxju"
      },
      "execution_count": null,
      "outputs": []
    }
  ]
}