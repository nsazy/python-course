{
  "nbformat": 4,
  "nbformat_minor": 0,
  "metadata": {
    "colab": {
      "provenance": [],
      "authorship_tag": "ABX9TyNnJ+rUPK40qDpqqtXa3oZH"
    },
    "kernelspec": {
      "name": "python3",
      "display_name": "Python 3"
    },
    "language_info": {
      "name": "python"
    }
  },
  "cells": [
    {
      "cell_type": "markdown",
      "source": [
        "##Operators, Expressions and Comments"
      ],
      "metadata": {
        "id": "ZA_XLV5aBRKs"
      }
    },
    {
      "cell_type": "markdown",
      "source": [
        "Operators in python include commonly used math operators such as the following: (), **, *, /, + and - which are parenthesis, exponents, multiplication, division, addition and subtraction. The order in which these operators is listed is known as the \"rules of precedence\" or the order in which each operator evaluated in an expression.   This order of evaluation also is known as PEMDAS.  Other math operators include // and % which is floor division and modulus.   "
      ],
      "metadata": {
        "id": "4BPmQ8J5CAVr"
      }
    },
    {
      "cell_type": "markdown",
      "source": [
        "##Arithmatic operators, expressions and comments."
      ],
      "metadata": {
        "id": "CvFPCIjNs0xZ"
      }
    },
    {
      "cell_type": "markdown",
      "source": [
        "Each code snippet below which shows examples of each is also an example of an *expression*. Another important concept to under is the use of comments in python programs using the pound sign # which I will demonstrate below.\n",
        "\n",
        "\n",
        "Here the math operations in the parenthesis are evaluated from left to right resulting in 2*1 with the result of 2"
      ],
      "metadata": {
        "id": "Oe_c8pu0EL_O"
      }
    },
    {
      "cell_type": "code",
      "source": [
        "(1+1)*(6-5) # Here the math operations in the parenthesis are evaluated from left to right \n",
        "            # resulting in 2 * 1, end result of 2"
      ],
      "metadata": {
        "id": "jliczY56Dxc2"
      },
      "execution_count": null,
      "outputs": []
    },
    {
      "cell_type": "code",
      "source": [
        "5 / 2"
      ],
      "metadata": {
        "id": "Exdj9jIchIbo"
      },
      "execution_count": null,
      "outputs": []
    },
    {
      "cell_type": "markdown",
      "source": [
        "The following will demonstrate 3 ** 2 or 3 to the power of 2."
      ],
      "metadata": {
        "id": "Zs4u2US7rj_W"
      }
    },
    {
      "cell_type": "code",
      "source": [
        "3 ** 2"
      ],
      "metadata": {
        "id": "RYNzQX6ZsJlY"
      },
      "execution_count": null,
      "outputs": []
    },
    {
      "cell_type": "markdown",
      "source": [
        "Below 14 % 3 will divide 14 by 3 giving the result of 4 with 2 left over.  "
      ],
      "metadata": {
        "id": "YYhwAr0zq87C"
      }
    },
    {
      "cell_type": "code",
      "source": [
        "14 % 3"
      ],
      "metadata": {
        "id": "IIOT2iMWqC8F"
      },
      "execution_count": null,
      "outputs": []
    },
    {
      "cell_type": "markdown",
      "source": [
        "The following using floor division take the result and round it to the next whole number.  Since the previous result was 2.5 here the result is rounded down to 2."
      ],
      "metadata": {
        "id": "ezF_z1lIjPrP"
      }
    },
    {
      "cell_type": "code",
      "source": [
        "5//2 "
      ],
      "metadata": {
        "id": "rEOhAJNAE1Ip"
      },
      "execution_count": null,
      "outputs": []
    },
    {
      "cell_type": "markdown",
      "source": [
        "##Assignment operators"
      ],
      "metadata": {
        "id": "o3IY7QPNvlrw"
      }
    },
    {
      "cell_type": "markdown",
      "source": [
        "Assignment operators as seen before in the Variables notebook involve assigning a value to a variable.  Here I will assign the value 15 to the variable x.\n"
      ],
      "metadata": {
        "id": "HlQZT_v8Inre"
      }
    },
    {
      "cell_type": "code",
      "source": [
        "x  = 15\n",
        "x"
      ],
      "metadata": {
        "id": "vNGRLmYgJjqy"
      },
      "execution_count": null,
      "outputs": []
    },
    {
      "cell_type": "markdown",
      "source": [
        "With regards to the math operators reviewed previously, the following math operators can be combined with the assignment operator = to compute a new value as part of an expression an assign the new resulting value to the variable.  The following examples will demonstrate this concept and I will use the variable x with the value of 15 as shown above."
      ],
      "metadata": {
        "id": "qOt4goi4Jtog"
      }
    },
    {
      "cell_type": "markdown",
      "source": [
        "Here the value of x or 15 will be added to 5 and the resulting value of 20 will now be assigned to x.\n"
      ],
      "metadata": {
        "id": "771VSpbDLeEr"
      }
    },
    {
      "cell_type": "code",
      "source": [
        "x  = x + 5 \n",
        "x"
      ],
      "metadata": {
        "id": "7tEJ1j8GK1FY"
      },
      "execution_count": null,
      "outputs": []
    },
    {
      "cell_type": "markdown",
      "source": [
        "Now a shortcut version of the example above which gives the same result is to put the + in front of the = sign.  This condenses the code.  "
      ],
      "metadata": {
        "id": "VcvmHAHvLp7O"
      }
    },
    {
      "cell_type": "code",
      "source": [
        "x += 5\n",
        "x"
      ],
      "metadata": {
        "id": "aAOY7ZUbLzu3"
      },
      "execution_count": null,
      "outputs": []
    },
    {
      "cell_type": "markdown",
      "source": [
        "In fact each of the math operators shown previously can have this same shortcut applied as seen below:\n",
        "\n",
        "x = x ** 5 --> x **= 5\n",
        "\n",
        "x = x * 5 --> x *= 5\n",
        "\n",
        "x = x / 5 --> x /= 5\n",
        "\n",
        "x = x - 5 --> x-=5\n",
        "\n",
        "x = x % 5 --> x %= 5\n",
        "\n",
        "x = x // 5 --> x //= 5"
      ],
      "metadata": {
        "id": "GxylFP1ANFta"
      }
    },
    {
      "cell_type": "markdown",
      "source": [
        "##Boolean operators"
      ],
      "metadata": {
        "id": "stluabQUDHP-"
      }
    },
    {
      "cell_type": "markdown",
      "source": [
        "Boolean operators are used to compare two values which will evaluate to TRUE or FALSE.  An example of of this would be the the equality operator == as shown in the expression below."
      ],
      "metadata": {
        "id": "aV37C5dODs2b"
      }
    },
    {
      "cell_type": "code",
      "source": [
        "15 == 5 # Will evaluate to up false"
      ],
      "metadata": {
        "id": "iF_T_h6LbFmm"
      },
      "execution_count": null,
      "outputs": []
    },
    {
      "cell_type": "markdown",
      "source": [
        "Other boolean operators include the following:"
      ],
      "metadata": {
        "id": "233rHeGBi8nm"
      }
    },
    {
      "cell_type": "code",
      "source": [
        "5 != 6 # != is not equal to.  Here evualuate to True"
      ],
      "metadata": {
        "id": "YRJNGL7MjNdq"
      },
      "execution_count": null,
      "outputs": []
    },
    {
      "cell_type": "code",
      "source": [
        "6 < 5 # < is less than.  This will evaluate to False"
      ],
      "metadata": {
        "id": "cZdNgDGaj-gl"
      },
      "execution_count": null,
      "outputs": []
    },
    {
      "cell_type": "code",
      "source": [
        "7 > 5 # > is greater than.  This expression will evaluate to True."
      ],
      "metadata": {
        "id": "B70U8-UutfqN"
      },
      "execution_count": null,
      "outputs": []
    },
    {
      "cell_type": "code",
      "source": [
        "8 <= 5 # <= is greater than or equal to.   This expesiin will evaluate to False."
      ],
      "metadata": {
        "id": "gBCbDxnVuklz"
      },
      "execution_count": null,
      "outputs": []
    },
    {
      "cell_type": "code",
      "source": [
        "9 >= 6 # >= is greater than or equal to.  This expession will evaluate to True."
      ],
      "metadata": {
        "id": "yC3gou-QvBza"
      },
      "execution_count": null,
      "outputs": []
    },
    {
      "cell_type": "markdown",
      "source": [
        "##Logical operators"
      ],
      "metadata": {
        "id": "T74VIoFxvuO0"
      }
    },
    {
      "cell_type": "markdown",
      "source": [
        "Logical operators include: and, or, not. The following are examples of each."
      ],
      "metadata": {
        "id": "w5mR2gCf3R1v"
      }
    },
    {
      "cell_type": "code",
      "source": [
        "a = 5\n",
        "a > 1 and a < 10 # Will be true only if both expressions evaluate to true.  "
      ],
      "metadata": {
        "id": "phrFCkHz3jJn"
      },
      "execution_count": null,
      "outputs": []
    },
    {
      "cell_type": "code",
      "source": [
        "b = 6\n",
        "b > 1 or b < 10 #Is true if either expression evaluates to true."
      ],
      "metadata": {
        "id": "gJh0quAK62MY"
      },
      "execution_count": null,
      "outputs": []
    },
    {
      "cell_type": "code",
      "source": [
        "c = 7\n",
        "d = 10\n",
        "not (c > d) # This will evaluate to true \n"
      ],
      "metadata": {
        "id": "T_llSNlaTXpC"
      },
      "execution_count": null,
      "outputs": []
    },
    {
      "cell_type": "markdown",
      "source": [
        "For more information please visit [Operators](https://docs.python.org/3/library/index.html) in the Python documentation."
      ],
      "metadata": {
        "id": "ECFEKG1T246V"
      }
    }
  ]
}