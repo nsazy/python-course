{
  "nbformat": 4,
  "nbformat_minor": 0,
  "metadata": {
    "colab": {
      "provenance": []
    },
    "kernelspec": {
      "name": "python3",
      "display_name": "Python 3"
    },
    "language_info": {
      "name": "python"
    }
  },
  "cells": [
    {
      "cell_type": "markdown",
      "source": [
        "##Operators, Expressions, Comments and Conditionals"
      ],
      "metadata": {
        "id": "ZA_XLV5aBRKs"
      }
    },
    {
      "cell_type": "markdown",
      "source": [
        "Operators in python include commonly used math operators such as the following: (), **, *, /, + and - which are parenthesis, exponents, multiplication, division, addition and subtraction. The order in which these operators is listed is known as the \"rules of precedence\" or the order in which each operator evaluated in an expression.   This order of evaluation also is known as PEMDAS.  Other math operators include // and % which is floor division and modulus.   "
      ],
      "metadata": {
        "id": "4BPmQ8J5CAVr"
      }
    },
    {
      "cell_type": "markdown",
      "source": [
        "##Arithmatic operators, expressions and comments."
      ],
      "metadata": {
        "id": "CvFPCIjNs0xZ"
      }
    },
    {
      "cell_type": "markdown",
      "source": [
        "Each code snippet below which shows examples of each is also an example of an *expression*. Another important concept to under is the use of comments in python programs using the pound sign # which I will demonstrate below.\n",
        "\n",
        "\n",
        "Here the math operations in the parenthesis are evaluated from left to right resulting in 2*1 with the result of 2"
      ],
      "metadata": {
        "id": "Oe_c8pu0EL_O"
      }
    },
    {
      "cell_type": "code",
      "source": [
        "(1+1)*(6-5) # Here the math operations in the parenthesis are evaluated from left to right \n",
        "            # resulting in 2 * 1, end result of 2"
      ],
      "metadata": {
        "colab": {
          "base_uri": "https://localhost:8080/"
        },
        "id": "jliczY56Dxc2",
        "outputId": "3ebdf9d3-3e15-4a36-cf77-81e368d5a5a2"
      },
      "execution_count": null,
      "outputs": [
        {
          "output_type": "execute_result",
          "data": {
            "text/plain": [
              "2"
            ]
          },
          "metadata": {},
          "execution_count": 2
        }
      ]
    },
    {
      "cell_type": "code",
      "source": [
        "5 / 2"
      ],
      "metadata": {
        "colab": {
          "base_uri": "https://localhost:8080/"
        },
        "id": "Exdj9jIchIbo",
        "outputId": "7d24f8c7-c5be-4c0f-cd6d-93b58d54b583"
      },
      "execution_count": null,
      "outputs": [
        {
          "output_type": "execute_result",
          "data": {
            "text/plain": [
              "2.5"
            ]
          },
          "metadata": {},
          "execution_count": 1
        }
      ]
    },
    {
      "cell_type": "markdown",
      "source": [
        "The following will demonstrate 3 ** 2 or 3 to the power of 2."
      ],
      "metadata": {
        "id": "Zs4u2US7rj_W"
      }
    },
    {
      "cell_type": "code",
      "source": [
        "3 ** 2"
      ],
      "metadata": {
        "colab": {
          "base_uri": "https://localhost:8080/"
        },
        "id": "RYNzQX6ZsJlY",
        "outputId": "241b67f5-4ccb-416f-f748-4b5801bc600f"
      },
      "execution_count": null,
      "outputs": [
        {
          "output_type": "execute_result",
          "data": {
            "text/plain": [
              "9"
            ]
          },
          "metadata": {},
          "execution_count": 5
        }
      ]
    },
    {
      "cell_type": "markdown",
      "source": [
        "Below 14 % 3 will divide 14 by 3 giving the result of 4 with 2 left over.  "
      ],
      "metadata": {
        "id": "YYhwAr0zq87C"
      }
    },
    {
      "cell_type": "code",
      "source": [
        "14 % 3"
      ],
      "metadata": {
        "colab": {
          "base_uri": "https://localhost:8080/"
        },
        "id": "IIOT2iMWqC8F",
        "outputId": "c9e19f90-f70d-481f-eed4-3e142dcded15"
      },
      "execution_count": null,
      "outputs": [
        {
          "output_type": "execute_result",
          "data": {
            "text/plain": [
              "2"
            ]
          },
          "metadata": {},
          "execution_count": 4
        }
      ]
    },
    {
      "cell_type": "markdown",
      "source": [
        "The following using floor division take the result and round it to the next whole number.  Since the previous result was 2.5 here the result is rounded down to 2."
      ],
      "metadata": {
        "id": "ezF_z1lIjPrP"
      }
    },
    {
      "cell_type": "code",
      "source": [
        "5//2 "
      ],
      "metadata": {
        "id": "rEOhAJNAE1Ip",
        "colab": {
          "base_uri": "https://localhost:8080/"
        },
        "outputId": "fc50869e-4454-4bde-f14a-1f53418b6ddc"
      },
      "execution_count": null,
      "outputs": [
        {
          "output_type": "execute_result",
          "data": {
            "text/plain": [
              "2"
            ]
          },
          "metadata": {},
          "execution_count": 2
        }
      ]
    },
    {
      "cell_type": "markdown",
      "source": [
        "##Assignment operators"
      ],
      "metadata": {
        "id": "o3IY7QPNvlrw"
      }
    },
    {
      "cell_type": "markdown",
      "source": [
        "Assignment operators as seen before in the Variables notebook involve assigning a value to a variable.  Here I will assign the value 15 to the variable x.\n"
      ],
      "metadata": {
        "id": "HlQZT_v8Inre"
      }
    },
    {
      "cell_type": "code",
      "source": [
        "x  = 15\n",
        "x"
      ],
      "metadata": {
        "colab": {
          "base_uri": "https://localhost:8080/"
        },
        "id": "vNGRLmYgJjqy",
        "outputId": "6a4740d4-18b1-4d9c-89fe-1c768f24c7c3"
      },
      "execution_count": null,
      "outputs": [
        {
          "output_type": "execute_result",
          "data": {
            "text/plain": [
              "15"
            ]
          },
          "metadata": {},
          "execution_count": 1
        }
      ]
    },
    {
      "cell_type": "markdown",
      "source": [
        "With regards to the math operators reviewed previously, the following math operators can be combined with the assignment operator = to compute a new value as part of an expression an assign the new resulting value to the variable.  The following examples will demonstrate this concept and I will use the variable x with the value of 15 as shown above."
      ],
      "metadata": {
        "id": "qOt4goi4Jtog"
      }
    },
    {
      "cell_type": "markdown",
      "source": [
        "Here the value of x or 15 will be added to 5 and the resulting value of 20 will now be assigned to x.\n"
      ],
      "metadata": {
        "id": "771VSpbDLeEr"
      }
    },
    {
      "cell_type": "code",
      "source": [
        "x  = x + 5 \n",
        "x"
      ],
      "metadata": {
        "colab": {
          "base_uri": "https://localhost:8080/"
        },
        "id": "7tEJ1j8GK1FY",
        "outputId": "f6600af9-1a5c-48cb-c104-92ccaada89bd"
      },
      "execution_count": null,
      "outputs": [
        {
          "output_type": "execute_result",
          "data": {
            "text/plain": [
              "20"
            ]
          },
          "metadata": {},
          "execution_count": 2
        }
      ]
    },
    {
      "cell_type": "markdown",
      "source": [
        "Now a shortcut version of the example above which gives the same result is to put the + in front of the = sign.  This condenses the code.  "
      ],
      "metadata": {
        "id": "VcvmHAHvLp7O"
      }
    },
    {
      "cell_type": "code",
      "source": [
        "x += 5"
      ],
      "metadata": {
        "colab": {
          "base_uri": "https://localhost:8080/"
        },
        "id": "aAOY7ZUbLzu3",
        "outputId": "c3e97548-a232-44dc-a3c6-e2acb4fa2f00"
      },
      "execution_count": null,
      "outputs": [
        {
          "output_type": "execute_result",
          "data": {
            "text/plain": [
              "25"
            ]
          },
          "metadata": {},
          "execution_count": 3
        }
      ]
    },
    {
      "cell_type": "markdown",
      "source": [
        "In fact each of the math operators shown previously can have this same shortcut applied as seen below:\n",
        "\n",
        "x = x ** 5 --> x **= 5\n",
        "\n",
        "x = x * 5 --> x *= 5\n",
        "\n",
        "x = x / 5 --> x /= 5\n",
        "\n",
        "x = x - 5 --> x-=5\n",
        "\n",
        "x = x % 5 --> x %= 5\n",
        "\n",
        "x = x // 5 --> x //= 5"
      ],
      "metadata": {
        "id": "GxylFP1ANFta"
      }
    },
    {
      "cell_type": "markdown",
      "source": [
        "##Boolean operators"
      ],
      "metadata": {
        "id": "stluabQUDHP-"
      }
    },
    {
      "cell_type": "markdown",
      "source": [
        "Boolean operators are used to compare two values which will evaluate to TRUE or FALSE.  An example of of this would be the the equality operator == as shown in the expression below."
      ],
      "metadata": {
        "id": "aV37C5dODs2b"
      }
    },
    {
      "cell_type": "code",
      "source": [
        "15 == 5 # Will evaluate to up false"
      ],
      "metadata": {
        "colab": {
          "base_uri": "https://localhost:8080/"
        },
        "id": "iF_T_h6LbFmm",
        "outputId": "9f1e6745-45d8-4e3c-be9d-0738db4ef423"
      },
      "execution_count": null,
      "outputs": [
        {
          "output_type": "execute_result",
          "data": {
            "text/plain": [
              "False"
            ]
          },
          "metadata": {},
          "execution_count": 1
        }
      ]
    },
    {
      "cell_type": "markdown",
      "source": [
        "Other boolean operators include the following:"
      ],
      "metadata": {
        "id": "233rHeGBi8nm"
      }
    },
    {
      "cell_type": "code",
      "source": [
        "5 != 6 # != is not equal to.  Here evualuate to False"
      ],
      "metadata": {
        "colab": {
          "base_uri": "https://localhost:8080/"
        },
        "id": "YRJNGL7MjNdq",
        "outputId": "80ba9bab-4cdc-4b71-9dd7-331271dc605e"
      },
      "execution_count": null,
      "outputs": [
        {
          "output_type": "execute_result",
          "data": {
            "text/plain": [
              "True"
            ]
          },
          "metadata": {},
          "execution_count": 1
        }
      ]
    },
    {
      "cell_type": "code",
      "source": [
        "6 < 5 # < is less than.  This will evaluate to True"
      ],
      "metadata": {
        "colab": {
          "base_uri": "https://localhost:8080/"
        },
        "id": "cZdNgDGaj-gl",
        "outputId": "942256c3-90d3-4025-ffc4-bc3540573d82"
      },
      "execution_count": null,
      "outputs": [
        {
          "output_type": "execute_result",
          "data": {
            "text/plain": [
              "False"
            ]
          },
          "metadata": {},
          "execution_count": 2
        }
      ]
    },
    {
      "cell_type": "code",
      "source": [
        "7 > 5 # > is greater than.  This expression will evaluate to True."
      ],
      "metadata": {
        "colab": {
          "base_uri": "https://localhost:8080/"
        },
        "id": "B70U8-UutfqN",
        "outputId": "6de2861a-1156-4cc2-9dc4-bf62c04e5367"
      },
      "execution_count": null,
      "outputs": [
        {
          "output_type": "execute_result",
          "data": {
            "text/plain": [
              "True"
            ]
          },
          "metadata": {},
          "execution_count": 3
        }
      ]
    },
    {
      "cell_type": "code",
      "source": [
        "8 <= 5 # <= is greater than or equal to.   This expesiin will evaluate to Fale."
      ],
      "metadata": {
        "colab": {
          "base_uri": "https://localhost:8080/"
        },
        "id": "gBCbDxnVuklz",
        "outputId": "00d509dd-79a0-4618-8908-91d30b10a24d"
      },
      "execution_count": null,
      "outputs": [
        {
          "output_type": "execute_result",
          "data": {
            "text/plain": [
              "False"
            ]
          },
          "metadata": {},
          "execution_count": 4
        }
      ]
    },
    {
      "cell_type": "code",
      "source": [
        "9 >= 6 # >= is greater than or equal to.  This expession will evaluate to False."
      ],
      "metadata": {
        "colab": {
          "base_uri": "https://localhost:8080/"
        },
        "id": "yC3gou-QvBza",
        "outputId": "6205d850-ad5f-45e8-9683-f10c0ffaeb24"
      },
      "execution_count": null,
      "outputs": [
        {
          "output_type": "execute_result",
          "data": {
            "text/plain": [
              "True"
            ]
          },
          "metadata": {},
          "execution_count": 5
        }
      ]
    },
    {
      "cell_type": "markdown",
      "source": [
        "##Logical operators"
      ],
      "metadata": {
        "id": "T74VIoFxvuO0"
      }
    },
    {
      "cell_type": "markdown",
      "source": [
        "Logical operators include: and, or, not. The following are examples of each."
      ],
      "metadata": {
        "id": "w5mR2gCf3R1v"
      }
    },
    {
      "cell_type": "code",
      "source": [
        "a = 5\n",
        "a > 1 and a < 10 # Will be true only if both expressions evaluate to true.  "
      ],
      "metadata": {
        "colab": {
          "base_uri": "https://localhost:8080/"
        },
        "id": "phrFCkHz3jJn",
        "outputId": "f80bf0e4-e151-4376-dd2c-4a9389c8e69c"
      },
      "execution_count": null,
      "outputs": [
        {
          "output_type": "execute_result",
          "data": {
            "text/plain": [
              "True"
            ]
          },
          "metadata": {},
          "execution_count": 3
        }
      ]
    },
    {
      "cell_type": "code",
      "source": [
        "b = 6\n",
        "b > 1 or b < 10 #Is true if either expression evaluates to true."
      ],
      "metadata": {
        "colab": {
          "base_uri": "https://localhost:8080/"
        },
        "id": "gJh0quAK62MY",
        "outputId": "0ecad348-5cdf-42d2-c236-0b323067f0b1"
      },
      "execution_count": null,
      "outputs": [
        {
          "output_type": "execute_result",
          "data": {
            "text/plain": [
              "True"
            ]
          },
          "metadata": {},
          "execution_count": 1
        }
      ]
    },
    {
      "cell_type": "code",
      "source": [
        "jc = 7\n",
        "d = 10\n",
        "not (c > d) # This will evaluate to true if c > d is False\n"
      ],
      "metadata": {
        "id": "T_llSNlaTXpC",
        "colab": {
          "base_uri": "https://localhost:8080/"
        },
        "outputId": "25d8160d-df87-4681-e7c3-9dd7815b887c"
      },
      "execution_count": null,
      "outputs": [
        {
          "output_type": "execute_result",
          "data": {
            "text/plain": [
              "True"
            ]
          },
          "metadata": {},
          "execution_count": 4
        }
      ]
    },
    {
      "cell_type": "markdown",
      "source": [
        "##Conditionals and If statements"
      ],
      "metadata": {
        "id": "WyTuWTYfmm8p"
      }
    },
    {
      "cell_type": "markdown",
      "source": [
        "Checking a condition or if an expression such as a == 5 is true or not is an important part of programming.  You can check if a condition is true or not and execute the programming accoringly based on the evaulation of the expression.  Below the expression a == 5 is preceded by the if keyword and followed by a colon :.  \n",
        "The following example demonstrates these concepts."
      ],
      "metadata": {
        "id": "wl60h87xJepC"
      }
    },
    {
      "cell_type": "code",
      "source": [
        "a = 5\n",
        "if a == 5: # Statement which checks to see if value in a is equal to 4\n",
        "  print(\"The value is equal to five\") # If previous statement is true the print statement will execute.\n",
        "else: # If first statement \"if a == 5\" evalutes to false execution skips previous print statment, the else statement executes \n",
        "      #then the last print statment executes.\n",
        "  print(\"The value is greater than 5.\")"
      ],
      "metadata": {
        "colab": {
          "base_uri": "https://localhost:8080/"
        },
        "id": "pgSf1KyhKdjW",
        "outputId": "199bdfc6-6952-4649-bccc-06a106f309b2"
      },
      "execution_count": null,
      "outputs": [
        {
          "output_type": "stream",
          "name": "stdout",
          "text": [
            "The value is equal to five\n"
          ]
        }
      ]
    },
    {
      "cell_type": "code",
      "source": [
        "b > 10\n",
        "if b < 10:\n",
        "  print(\"\")"
      ],
      "metadata": {
        "id": "u-3t0_UhfdDM"
      },
      "execution_count": null,
      "outputs": []
    }
  ]
}