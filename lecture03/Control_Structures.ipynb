{
  "nbformat": 4,
  "nbformat_minor": 0,
  "metadata": {
    "colab": {
      "provenance": [],
      "authorship_tag": "ABX9TyOwxAreqS4fr8fu5edcpwPl"
    },
    "kernelspec": {
      "name": "python3",
      "display_name": "Python 3"
    },
    "language_info": {
      "name": "python"
    }
  },
  "cells": [
    {
      "cell_type": "markdown",
      "source": [
        "Control structures in python such as if / if else conditionals, in addition to for / while loops, allow a progrem to follow a specific direction based on values contained within variables.  \n",
        "\n",
        "In this section, we will begin to further see how variables, expressions and statements are used as fundamental building blocks when building programs."
      ],
      "metadata": {
        "id": "t872fQY9_BAO"
      }
    },
    {
      "cell_type": "markdown",
      "source": [
        "##Conditionals, If statements and Loops"
      ],
      "metadata": {
        "id": "WyTuWTYfmm8p"
      }
    },
    {
      "cell_type": "markdown",
      "source": [
        "Checking whether an expression such as a == 5 is true or not is an important part of programming.  This expression, which is also know as a condition since the result of evaluating it results in True or False is also known as a bool type value.  This condition when combined with the if keyword and a colon as shown below is a statement.  This statement combined with the print statment below it is a block of code which will execute if the condition a == 5 is True, therefore running the print statment.  One other thing you may have noticed is that the print statement is indented.  Whereas other languages like Java use curly brackets {} to execute a block of code, python uses indentation to accomplish the same.\n"
      ],
      "metadata": {
        "id": "wl60h87xJepC"
      }
    },
    {
      "cell_type": "code",
      "source": [
        "a = 5\n",
        "if a == 5: # Statement which checks to see if value in a is equal to 5\n",
        "  print(\"The value is equal to five\") # If previous statement is true the print statement will execute.\n"
      ],
      "metadata": {
        "id": "rbiY8tuH_L5N",
        "colab": {
          "base_uri": "https://localhost:8080/"
        },
        "outputId": "ab4c8147-227e-4d4c-a252-b7bbfb42d86b"
      },
      "execution_count": null,
      "outputs": [
        {
          "output_type": "stream",
          "name": "stdout",
          "text": [
            "The value is equal to five\n"
          ]
        }
      ]
    },
    {
      "cell_type": "markdown",
      "source": [
        "To further build upon the if statement above, an else block will be added below.  The else block is an important building block in that when the if block is false you can add a default block to execute. In this case since the value of a is not equal to seven, instead of the if block not executing, the else block can run and provide feedback."
      ],
      "metadata": {
        "id": "l8UpDjV9tdJ7"
      }
    },
    {
      "cell_type": "code",
      "source": [
        "a = 5\n",
        "if a == 7: # Statement which checks to see if value in a is equal to 7\n",
        "  print(\"The value is equal to seven\") # If previous statement is true the print statement will execute.\n",
        "else: # If statement \"if a == 7\" were to evalute to false, execution skips previous print statment, the else statement executes \n",
        "      #then the last print statment executes.\n",
        "  print(\"The value is not equal to seven.\")"
      ],
      "metadata": {
        "id": "jUcih11QtdaT",
        "colab": {
          "base_uri": "https://localhost:8080/"
        },
        "outputId": "578e1d78-35b0-4700-a620-045639ac4793"
      },
      "execution_count": null,
      "outputs": [
        {
          "output_type": "stream",
          "name": "stdout",
          "text": [
            "The value is not equal to seven.\n"
          ]
        }
      ]
    },
    {
      "cell_type": "markdown",
      "source": [
        "Now in the event that other conditions need to be checked or evaluated, additional elif blocks can be added.  Elif is the same as *else if* that would be seen in a language such as Java.  You can have one or multiple elif blocks depending on how many conditions need to be checked then at the end an else can be added as the default."
      ],
      "metadata": {
        "id": "ES2CKZQx3lDG"
      }
    },
    {
      "cell_type": "code",
      "source": [
        "a = 5\n",
        "if a == 7: \n",
        "  print(\"The value is equal to seven.\")\n",
        "elif a == 2:\n",
        "  print(\"The value is equal to 2.\")\n",
        "elif a == 5:\n",
        "  print(\"The value is equal to 5.\")\n",
        "else: \n",
        "  print(\"No value is equal to a.\")"
      ],
      "metadata": {
        "id": "Qqp8hLtW5HD_",
        "colab": {
          "base_uri": "https://localhost:8080/"
        },
        "outputId": "c199ec17-cc53-4a3b-f07b-9b5b0c97470b"
      },
      "execution_count": null,
      "outputs": [
        {
          "output_type": "stream",
          "name": "stdout",
          "text": [
            "The value is equal to 5.\n"
          ]
        }
      ]
    },
    {
      "cell_type": "markdown",
      "source": [
        "For loops are another type of control structure where the program iterates or loops through a set of data.  In python the two keywords for and in are used with the following structure:\n",
        "\n",
        "for iterator_variable in data_set:\n",
        "    statement(s)\n",
        "\n",
        "In the following example the range function is used to generate a set of numbers 0 through 9.  Functions will be covered more in a later notebook. \n",
        "\n",
        "In this example the loop variable \"i\" will iterate through the set of numbers one at a time.  During each iteration the number will be printed to the screen."
      ],
      "metadata": {
        "id": "oo1HIPe4cYh2"
      }
    },
    {
      "cell_type": "code",
      "source": [
        "for i in range(0,10): # Here the range function is used to create a serier of numbers 0 through 9\n",
        "  print (i)"
      ],
      "metadata": {
        "id": "WfIQMwjzgpWz",
        "colab": {
          "base_uri": "https://localhost:8080/"
        },
        "outputId": "431ba73b-80c5-4adc-e73d-d996c87617dc"
      },
      "execution_count": null,
      "outputs": [
        {
          "output_type": "stream",
          "name": "stdout",
          "text": [
            "0\n",
            "1\n",
            "2\n",
            "3\n",
            "4\n",
            "5\n",
            "6\n",
            "7\n",
            "8\n",
            "9\n"
          ]
        }
      ]
    },
    {
      "cell_type": "markdown",
      "source": [
        "A while loop is a control structure that will execute until its condition becomes false. In following example the loop will run until a is 4."
      ],
      "metadata": {
        "id": "gGdfW3Z2mKyY"
      }
    },
    {
      "cell_type": "code",
      "source": [
        "a = 0\n",
        "while a < 5:\n",
        "  a = a + 1\n",
        "  print(a)"
      ],
      "metadata": {
        "colab": {
          "base_uri": "https://localhost:8080/"
        },
        "id": "TVOYp9VRmrKv",
        "outputId": "6d56b584-c2b3-41a2-e646-07d2abc2333c"
      },
      "execution_count": null,
      "outputs": [
        {
          "output_type": "stream",
          "name": "stdout",
          "text": [
            "1\n",
            "2\n",
            "3\n",
            "4\n",
            "5\n"
          ]
        }
      ]
    },
    {
      "cell_type": "markdown",
      "source": [
        "For more information please visit [Control Structures](https://docs.python.org/3/tutorial/controlflow.html) in the Python documenation.\n",
        "\n",
        "\n",
        "\n"
      ],
      "metadata": {
        "id": "o2NMB4y-34pX"
      }
    }
  ]
}