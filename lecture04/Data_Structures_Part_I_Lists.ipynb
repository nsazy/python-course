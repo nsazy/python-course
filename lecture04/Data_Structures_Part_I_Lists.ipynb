{
  "nbformat": 4,
  "nbformat_minor": 0,
  "metadata": {
    "colab": {
      "provenance": []
    },
    "kernelspec": {
      "name": "python3",
      "display_name": "Python 3"
    },
    "language_info": {
      "name": "python"
    }
  },
  "cells": [
    {
      "cell_type": "markdown",
      "source": [
        "#Data Structures Part I - Lists"
      ],
      "metadata": {
        "id": "3BpSg1Zx3-eR"
      }
    },
    {
      "cell_type": "markdown",
      "source": [
        "##Lists"
      ],
      "metadata": {
        "id": "GaDYdox76izk"
      }
    },
    {
      "cell_type": "markdown",
      "source": [
        "Lists are a sequence of values.  They are mutable or can be changed after creation such as by sorting, adding to and removing values from.  The following creates a list called names:"
      ],
      "metadata": {
        "id": "HFw2y33fA2pU"
      }
    },
    {
      "cell_type": "code",
      "source": [
        "names = [\"John\", \"Sarah\", \"Maegan\", \"Ethan\", \"Hailey\"]"
      ],
      "metadata": {
        "id": "IVCjSbjMFB_E"
      },
      "execution_count": null,
      "outputs": []
    },
    {
      "cell_type": "markdown",
      "source": [
        "Lists are zero index based meaning the first value is 0, followed by 1 etc.  In this case the list has 5 values but since it is zero based the number of values is n-1 or 0, 1, 2, 3, 4.  The indexes are represented in brackets such as [0].  The following example prints the first value in the list."
      ],
      "metadata": {
        "id": "nDUfmyr9FV5I"
      }
    },
    {
      "cell_type": "code",
      "source": [
        "print(names[0])"
      ],
      "metadata": {
        "colab": {
          "base_uri": "https://localhost:8080/",
          "height": 35
        },
        "id": "uZPU0bJGGTfl",
        "outputId": "4fe7773b-2787-4a6e-cb77-d18a8286f3ad"
      },
      "execution_count": null,
      "outputs": [
        {
          "output_type": "execute_result",
          "data": {
            "text/plain": [
              "'John'"
            ],
            "application/vnd.google.colaboratory.intrinsic+json": {
              "type": "string"
            }
          },
          "metadata": {},
          "execution_count": 3
        }
      ]
    },
    {
      "cell_type": "markdown",
      "source": [
        "A list can also be created using empty []."
      ],
      "metadata": {
        "id": "Dg6SDRNDVBKW"
      }
    },
    {
      "cell_type": "code",
      "source": [
        "lst = []\n",
        "print(lst)"
      ],
      "metadata": {
        "colab": {
          "base_uri": "https://localhost:8080/"
        },
        "id": "F6UJ9IOQVHqv",
        "outputId": "79122f17-784a-4f03-9c52-b75faeed9a71"
      },
      "execution_count": null,
      "outputs": [
        {
          "output_type": "stream",
          "name": "stdout",
          "text": [
            "[]\n"
          ]
        }
      ]
    },
    {
      "cell_type": "markdown",
      "source": [
        "A list can also cantain different data types such as integer, float, string and boolean."
      ],
      "metadata": {
        "id": "C0dFQKceVTsN"
      }
    },
    {
      "cell_type": "code",
      "source": [
        "records = [7, \"Sam\", 8,9, \"Michelle\", 1974, 36.9, True]\n",
        "print(records)"
      ],
      "metadata": {
        "colab": {
          "base_uri": "https://localhost:8080/"
        },
        "id": "Jm5l48mBVdyj",
        "outputId": "824417fe-55bb-43ce-b88a-9a0f3d9651bf"
      },
      "execution_count": null,
      "outputs": [
        {
          "output_type": "stream",
          "name": "stdout",
          "text": [
            "[7, 'Sam', 8, 9, 'Michelle', 1974, 36.9, True]\n"
          ]
        }
      ]
    },
    {
      "cell_type": "markdown",
      "source": [
        "A list can also be concatenated to another list using the + operand. Concatenating both names and records list will create a new list."
      ],
      "metadata": {
        "id": "reFWpvNZY8B9"
      }
    },
    {
      "cell_type": "code",
      "source": [
        "new_list = names + records\n",
        "print(new_list)"
      ],
      "metadata": {
        "colab": {
          "base_uri": "https://localhost:8080/"
        },
        "id": "g_2Yxx5wZEDs",
        "outputId": "be18c119-2799-4601-83a4-aa728375d835"
      },
      "execution_count": null,
      "outputs": [
        {
          "output_type": "stream",
          "name": "stdout",
          "text": [
            "['John', 'Sarah', 'Maegan', 'Ethan', 'Hailey', 7, 'Sam', 8, 9, 'Michelle', 1974, 36.9]\n"
          ]
        }
      ]
    },
    {
      "cell_type": "markdown",
      "source": [
        "###List Methods"
      ],
      "metadata": {
        "id": "J-SzlVj_6mlj"
      }
    },
    {
      "cell_type": "markdown",
      "source": [
        "Since a list is a python object it has methods that can be used such as sort, append, insert, remove and pop to perform opertions. "
      ],
      "metadata": {
        "id": "E6hrodNkXBux"
      }
    },
    {
      "cell_type": "markdown",
      "source": [
        "The sort method arranges the list in alphabetical or ascending order.  Using the names will result in the following:\n"
      ],
      "metadata": {
        "id": "ZinMrgkZaUMH"
      }
    },
    {
      "cell_type": "code",
      "source": [
        "grocery_list =[\"lettuce\", \"pepsi\", \"oranges\",\"bread\", \"ham\", \"cheese\"]\n",
        "\n",
        "#grocery_list.sort()\n",
        "print(grocery_list)"
      ],
      "metadata": {
        "colab": {
          "base_uri": "https://localhost:8080/"
        },
        "id": "x3et4zbkam2n",
        "outputId": "c1766f4d-2603-4845-a12e-decf14e028f1"
      },
      "execution_count": null,
      "outputs": [
        {
          "output_type": "stream",
          "name": "stdout",
          "text": [
            "['bread', 'cheese', 'ham', 'lettuce', 'oranges', 'pepsi']\n"
          ]
        }
      ]
    },
    {
      "cell_type": "markdown",
      "source": [
        "The sort method also has a reverse agrument that can be set to True as seen below to set the list to decending order."
      ],
      "metadata": {
        "id": "AbQDmKDmkGD7"
      }
    },
    {
      "cell_type": "code",
      "source": [
        "grocery_list = [\"lettuce\", \"pepsi\", \"oranges\",\"bread\", \"ham\", \"cheese\"]\n",
        "grocery_list.sort(reverse=True)\n",
        "print(grocery_list)"
      ],
      "metadata": {
        "colab": {
          "base_uri": "https://localhost:8080/"
        },
        "id": "bDBmYWLhiOoO",
        "outputId": "317477f5-43a6-412d-8961-26c5740c4a28"
      },
      "execution_count": null,
      "outputs": [
        {
          "output_type": "stream",
          "name": "stdout",
          "text": [
            "['pepsi', 'oranges', 'lettuce', 'ham', 'cheese', 'bread']\n"
          ]
        }
      ]
    },
    {
      "cell_type": "markdown",
      "source": [
        "The append method is useful when first creating an empty list, then adding values individually."
      ],
      "metadata": {
        "id": "dL_D-n6YkdYr"
      }
    },
    {
      "cell_type": "code",
      "source": [
        "temp = []\n",
        "temp.append(36.7) # Each time append is used it will add the value to the list\n",
        "temp.append(37.1)\n",
        "temp.append(37.3)\n",
        "temp.append(38.2)\n",
        "temp.append(38.7)\n",
        "temp.append(38.5)\n",
        "print(temp)\n"
      ],
      "metadata": {
        "id": "DMxYnLR4YHeT",
        "colab": {
          "base_uri": "https://localhost:8080/"
        },
        "outputId": "6b8efde7-595e-464a-f866-ea5cb18d9ded"
      },
      "execution_count": null,
      "outputs": [
        {
          "output_type": "stream",
          "name": "stdout",
          "text": [
            "[36.7, 37.1, 37.3, 38.2, 38.7, 38.5]\n"
          ]
        }
      ]
    },
    {
      "cell_type": "markdown",
      "source": [
        "The insert method inserts a value or element in this case at the position specified using the following:  insert(position, element).  Since list's are zero index based, if you were to insert an element at position 0 which currently is 36.7 the new value will be in that position shifting all subsequent elements to the right as shown below.\n"
      ],
      "metadata": {
        "id": "tG3dnxsmlXPf"
      }
    },
    {
      "cell_type": "code",
      "source": [
        "temp.insert(0,39)\n",
        "print(temp)"
      ],
      "metadata": {
        "id": "OSei4diGX6XU",
        "colab": {
          "base_uri": "https://localhost:8080/"
        },
        "outputId": "6da4a5af-9f06-4842-91f5-cd77ccb777a9"
      },
      "execution_count": null,
      "outputs": [
        {
          "output_type": "stream",
          "name": "stdout",
          "text": [
            "[39, 36.7, 37.1, 37.3, 38.2, 38.7, 38.5]\n"
          ]
        }
      ]
    },
    {
      "cell_type": "markdown",
      "source": [
        "The remove method removes a element from a list using the following notation: list.remove(element)."
      ],
      "metadata": {
        "id": "vKFpd1PbGHJE"
      }
    },
    {
      "cell_type": "code",
      "source": [
        "temp.remove(36.7)\n",
        "print(temp)"
      ],
      "metadata": {
        "colab": {
          "base_uri": "https://localhost:8080/"
        },
        "id": "qnojDF58HLUz",
        "outputId": "70041d9e-598c-4ec7-fea7-42bb18bffd68"
      },
      "execution_count": null,
      "outputs": [
        {
          "output_type": "stream",
          "name": "stdout",
          "text": [
            "[37.1, 37.3, 38.2, 38.7, 38.5]\n"
          ]
        }
      ]
    },
    {
      "cell_type": "markdown",
      "source": [
        "The pop method will removed an element using its index as a argument to the function call list.pop(index)"
      ],
      "metadata": {
        "id": "hXDsGUefHaPz"
      }
    },
    {
      "cell_type": "code",
      "source": [
        "temp.pop(0)\n",
        "print(temp)"
      ],
      "metadata": {
        "colab": {
          "base_uri": "https://localhost:8080/"
        },
        "id": "vdaa0Fp1HxxF",
        "outputId": "e712081a-f02c-4bae-f509-6cd83ac88824"
      },
      "execution_count": null,
      "outputs": [
        {
          "output_type": "stream",
          "name": "stdout",
          "text": [
            "[37.3, 38.2, 38.7, 38.5]\n"
          ]
        }
      ]
    },
    {
      "cell_type": "markdown",
      "source": [
        "One last method to cover is the len() function which provides the length of a list."
      ],
      "metadata": {
        "id": "cWczfzyALeyu"
      }
    },
    {
      "cell_type": "code",
      "source": [
        "print(len(temp))"
      ],
      "metadata": {
        "colab": {
          "base_uri": "https://localhost:8080/"
        },
        "id": "SddUATdULpp0",
        "outputId": "583fa943-0558-47be-c047-e48f4961d473"
      },
      "execution_count": null,
      "outputs": [
        {
          "output_type": "stream",
          "name": "stdout",
          "text": [
            "4\n"
          ]
        }
      ]
    },
    {
      "cell_type": "markdown",
      "source": [
        "###List Slicing"
      ],
      "metadata": {
        "id": "2jYBPTDw6SDS"
      }
    },
    {
      "cell_type": "markdown",
      "source": [
        "List slicing allows a specific value or range of values to be extracted from a list.  Starting with the example list below detailing 7 values of an adult patient heart rate several examples will show basic to more advanced methods.\n",
        "\n",
        "heart_rate = [78, 85, 97, 65, 82, 91]"
      ],
      "metadata": {
        "id": "D-TawSdxkmHp"
      }
    },
    {
      "cell_type": "markdown",
      "source": [
        "With this list the indexes are as follows:\n",
        "heart_rate = [0, 1, 2, 3, 4, 5] starting at index 0 and ending with index 5.  With slicing the range is indicated using [starting index : ending index].\n",
        "In order to get values from the list from index 0 to 2 use heart_rate[0:3].  This notation states to get the values starting at index 0 up to but not including index 3 as shown below."
      ],
      "metadata": {
        "id": "20OuKqnoJ8b7"
      }
    },
    {
      "cell_type": "code",
      "source": [
        "heart_rate = [78, 85, 97, 65, 82, 91]\n",
        "print(heart_rate[0:3])"
      ],
      "metadata": {
        "colab": {
          "base_uri": "https://localhost:8080/"
        },
        "id": "Wgh82tArLEOM",
        "outputId": "9c5739ce-931b-41ec-eafd-2aeb2372c9e2"
      },
      "execution_count": null,
      "outputs": [
        {
          "output_type": "stream",
          "name": "stdout",
          "text": [
            "[78, 85, 97]\n"
          ]
        }
      ]
    },
    {
      "cell_type": "markdown",
      "source": [
        "To get the whole range of numbers the following is required"
      ],
      "metadata": {
        "id": "AG5XbfrVNRMu"
      }
    },
    {
      "cell_type": "code",
      "source": [
        "heart_rate = [78, 85, 97, 65, 82, 91]\n",
        "print(heart_rate[0:6])\n"
      ],
      "metadata": {
        "id": "CfT7cowW6VBx",
        "colab": {
          "base_uri": "https://localhost:8080/"
        },
        "outputId": "d349d6be-54e8-4de7-cebe-cbbf57d791cf"
      },
      "execution_count": null,
      "outputs": [
        {
          "output_type": "stream",
          "name": "stdout",
          "text": [
            "[78, 85, 97, 65, 82, 91]\n"
          ]
        }
      ]
    },
    {
      "cell_type": "markdown",
      "source": [
        "Now if the range was set to the following heart_rate[0:7] or heart_rate[0:7] where it was beyond the indexes in the current list, no error would occur and the list would just be printed."
      ],
      "metadata": {
        "id": "YW0oNBXVNyUA"
      }
    },
    {
      "cell_type": "code",
      "source": [
        "heart_rate[0:7]"
      ],
      "metadata": {
        "colab": {
          "base_uri": "https://localhost:8080/"
        },
        "id": "4h7rbWsFOCGp",
        "outputId": "12790d14-112b-4cb5-8b57-b2a520a2244d"
      },
      "execution_count": null,
      "outputs": [
        {
          "output_type": "execute_result",
          "data": {
            "text/plain": [
              "[78, 85, 97, 65, 82, 91]"
            ]
          },
          "metadata": {},
          "execution_count": 5
        }
      ]
    },
    {
      "cell_type": "markdown",
      "source": [
        "To get the value 97 from the list use:"
      ],
      "metadata": {
        "id": "jwGXbINoOo4U"
      }
    },
    {
      "cell_type": "code",
      "source": [
        "print(heart_rate[2:3])"
      ],
      "metadata": {
        "colab": {
          "base_uri": "https://localhost:8080/"
        },
        "id": "32l5q_eiOya3",
        "outputId": "785d151d-5fc4-4417-c53b-f9a3784ff1e5"
      },
      "execution_count": null,
      "outputs": [
        {
          "output_type": "stream",
          "name": "stdout",
          "text": [
            "[97]\n"
          ]
        }
      ]
    },
    {
      "cell_type": "markdown",
      "source": [
        "To get the values from 65 through the end of the list two methods could be used, either heart_rate[3:6] or heart_rate[3:]"
      ],
      "metadata": {
        "id": "nPd_D4rjO9FJ"
      }
    },
    {
      "cell_type": "code",
      "source": [
        "heart_rate[3:6] "
      ],
      "metadata": {
        "colab": {
          "base_uri": "https://localhost:8080/"
        },
        "id": "umu5ydVLOGLS",
        "outputId": "5dad734b-cc64-49b4-f599-f69148ea3877"
      },
      "execution_count": null,
      "outputs": [
        {
          "output_type": "execute_result",
          "data": {
            "text/plain": [
              "[65, 82, 91]"
            ]
          },
          "metadata": {},
          "execution_count": 7
        }
      ]
    },
    {
      "cell_type": "code",
      "source": [
        "heart_rate[3:]"
      ],
      "metadata": {
        "colab": {
          "base_uri": "https://localhost:8080/"
        },
        "id": "eTlHHnegPVuo",
        "outputId": "bd82e713-8209-494e-9098-358acd008956"
      },
      "execution_count": null,
      "outputs": [
        {
          "output_type": "execute_result",
          "data": {
            "text/plain": [
              "[65, 82, 91]"
            ]
          },
          "metadata": {},
          "execution_count": 8
        }
      ]
    },
    {
      "cell_type": "markdown",
      "source": [
        "Another was to get lets say values 78, 85 and 97 one could use heart_rate[:3]"
      ],
      "metadata": {
        "id": "DXijxrG3PlOA"
      }
    },
    {
      "cell_type": "code",
      "source": [
        "print(heart_rate[:3])"
      ],
      "metadata": {
        "colab": {
          "base_uri": "https://localhost:8080/"
        },
        "id": "kWfT_yJqPzpU",
        "outputId": "a4455868-f7b0-4578-beac-9482d197cf2a"
      },
      "execution_count": null,
      "outputs": [
        {
          "output_type": "stream",
          "name": "stdout",
          "text": [
            "[78, 85, 97]\n"
          ]
        }
      ]
    },
    {
      "cell_type": "markdown",
      "source": [
        "To get the whole list one could simply using the following notation heart_rate[:]"
      ],
      "metadata": {
        "id": "LOF8BiSAP7RO"
      }
    },
    {
      "cell_type": "code",
      "source": [
        "heart_rate[:]"
      ],
      "metadata": {
        "colab": {
          "base_uri": "https://localhost:8080/"
        },
        "id": "ABix8Z0bQFTi",
        "outputId": "3fc946c7-1dfd-4c81-9a07-829134d44ce4"
      },
      "execution_count": null,
      "outputs": [
        {
          "output_type": "execute_result",
          "data": {
            "text/plain": [
              "[78, 85, 97, 65, 82, 91]"
            ]
          },
          "metadata": {},
          "execution_count": 10
        }
      ]
    },
    {
      "cell_type": "markdown",
      "source": [
        "List slicing can also be done in reverse could from -1 through to the beginning of the list.  In this case that would be heart_rate[-6, -5, -4, -3, -2, -1].  This type of slicing is usually done when the programmer would like to extract the last item in a very large list.  "
      ],
      "metadata": {
        "id": "Kjg4gZEgQRjQ"
      }
    },
    {
      "cell_type": "markdown",
      "source": [
        "This is the example to extract the last item:"
      ],
      "metadata": {
        "id": "vyIhUfbeQ8PL"
      }
    },
    {
      "cell_type": "code",
      "source": [
        "print(heart_rate[-1:])"
      ],
      "metadata": {
        "colab": {
          "base_uri": "https://localhost:8080/"
        },
        "id": "5o6U-1mQRA9P",
        "outputId": "a0d1f11c-fce5-4274-862e-06cfa9a4d714"
      },
      "execution_count": null,
      "outputs": [
        {
          "output_type": "stream",
          "name": "stdout",
          "text": [
            "[91]\n"
          ]
        }
      ]
    },
    {
      "cell_type": "markdown",
      "source": [
        "To get the entire list in this fashion you would use the following:"
      ],
      "metadata": {
        "id": "3K-06mItRSnN"
      }
    },
    {
      "cell_type": "code",
      "source": [
        "print(heart_rate[-6:])"
      ],
      "metadata": {
        "colab": {
          "base_uri": "https://localhost:8080/"
        },
        "id": "Bi6FVj_bRX0q",
        "outputId": "1e18d817-6731-4f72-8fd5-1d8e32accbbb"
      },
      "execution_count": null,
      "outputs": [
        {
          "output_type": "stream",
          "name": "stdout",
          "text": [
            "[78, 85, 97, 65, 82, 91]\n"
          ]
        }
      ]
    },
    {
      "cell_type": "markdown",
      "source": [
        "To learn further about slicing play around with the list provided above or create a list of your own and experiement."
      ],
      "metadata": {
        "id": "yOCn4C0MNNQF"
      }
    },
    {
      "cell_type": "markdown",
      "source": [
        "###Iterate through a list or sequence using a for loop"
      ],
      "metadata": {
        "id": "o8nZigL4Nci-"
      }
    },
    {
      "cell_type": "code",
      "source": [
        "heart_rate = [78, 85, 97, 65, 82, 91]\n",
        "\n",
        "for item in heart_rate:\n",
        "  print(item)"
      ],
      "metadata": {
        "colab": {
          "base_uri": "https://localhost:8080/"
        },
        "id": "62FT8KrfNaTT",
        "outputId": "fab2f900-fc3e-4e45-bbd2-c4f8dfbb750c"
      },
      "execution_count": null,
      "outputs": [
        {
          "output_type": "stream",
          "name": "stdout",
          "text": [
            "78\n",
            "85\n",
            "97\n",
            "65\n",
            "82\n",
            "91\n"
          ]
        }
      ]
    },
    {
      "cell_type": "markdown",
      "source": [
        "The following is an example of how to update each value in the list by 1. As can be seen a new empty list, updated_heart_rate, is first created on line 1.  On line 2 as the loop variable item iterates through each value in heart_rate, on line 3 1 is then added to item at which time the new value in item is added to updated_heart_rate.\n"
      ],
      "metadata": {
        "id": "Vk4nPL77ObSZ"
      }
    },
    {
      "cell_type": "code",
      "source": [
        "updated_heart_rate = []\n",
        "for item in heart_rate:\n",
        "  updated_heart_rate.append(item + 1)\n",
        "\n",
        "print(\"Previous list of heart rates: \" + heart_rate)\n",
        "\n",
        "print(\"Newly updated list: \" + updated_heart_rate\n"
      ],
      "metadata": {
        "id": "9x1AM7LzOjnj"
      },
      "execution_count": null,
      "outputs": []
    },
    {
      "cell_type": "markdown",
      "source": [
        "##List Comprehensions"
      ],
      "metadata": {
        "id": "m4BNq6qqXjI5"
      }
    },
    {
      "cell_type": "markdown",
      "source": [
        "List Comprehensions are a much more efficient way accomplising the previous code block with just one sentence.  They are commonly used where sometime of computation or operation is completed on the data in the list then placed in a new list once done. Below is the same code block above changed to a list comprehension."
      ],
      "metadata": {
        "id": "A9uBE7jfYfVY"
      }
    },
    {
      "cell_type": "markdown",
      "source": [],
      "metadata": {
        "id": "OeP_hTwKa1SJ"
      }
    },
    {
      "cell_type": "code",
      "source": [
        "updated_heart_rate = [item + 1 for item in heart_rate]\n",
        "print(updated_heart_rate)"
      ],
      "metadata": {
        "colab": {
          "base_uri": "https://localhost:8080/"
        },
        "id": "9g-t8Vj-Ygln",
        "outputId": "3c937781-831c-4496-f361-a65350d7057c"
      },
      "execution_count": null,
      "outputs": [
        {
          "output_type": "stream",
          "name": "stdout",
          "text": [
            "[79, 86, 98, 66, 83, 92]\n"
          ]
        }
      ]
    }
  ]
}